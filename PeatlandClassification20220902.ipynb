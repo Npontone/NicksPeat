{
 "cells": [
  {
   "cell_type": "code",
   "execution_count": null,
   "id": "7b958642-88d1-4eec-8285-1153e5243cf2",
   "metadata": {},
   "outputs": [],
   "source": [
    "#Peatland Classification Data Prep\n",
    "#Written by Nicholas Pontone"
   ]
  },
  {
   "cell_type": "code",
   "execution_count": null,
   "id": "6caf48b7-720e-47e5-874c-4bb0663d8645",
   "metadata": {},
   "outputs": [],
   "source": [
    "!pip install -q geemap"
   ]
  },
  {
   "cell_type": "code",
   "execution_count": null,
   "id": "94e1d258",
   "metadata": {},
   "outputs": [],
   "source": []
  },
  {
   "cell_type": "code",
   "execution_count": null,
   "id": "abb5d2a0-cb0e-43f6-a04b-365826594cf3",
   "metadata": {},
   "outputs": [],
   "source": [
    "!pip uninstall rasterio"
   ]
  },
  {
   "cell_type": "code",
   "execution_count": 2,
   "id": "6c0f6981-7ae9-4d6d-ba42-7275bc18ec6d",
   "metadata": {},
   "outputs": [],
   "source": [
    "#data manipulation / visualization\n",
    "import pandas as pd\n",
    "import geopandas as gpd\n",
    "import rasterio\n",
    "import numpy as np\n",
    "from rasterio.plot import reshape_as_image\n",
    "import matplotlib.pyplot as plt\n",
    "%matplotlib inline\n",
    "plt.rcParams['figure.figsize'] = [10, 10]\n",
    "\n",
    "#Sk Learn\n",
    "import sklearn\n",
    "from sklearn.model_selection import train_test_split # for splitting data into train and test samples\n",
    "from sklearn.ensemble import RandomForestClassifier\n",
    "from sklearn.metrics import classification_report # for model evaluation metrics\n",
    "from sklearn.model_selection import cross_val_score\n",
    "from sklearn.impute import SimpleImputer\n",
    "from sklearn.semi_supervised import SelfTrainingClassifier\n",
    "from sklearn.metrics import confusion_matrix, ConfusionMatrixDisplay\n",
    "\n",
    "#Misc Packages\n",
    "import time\n",
    "import os\n",
    "\n",
    "import ee\n",
    "import geemap"
   ]
  },
  {
   "cell_type": "code",
   "execution_count": 3,
   "id": "a2838bbb-c460-4ee1-80f5-d6c03b8b99d8",
   "metadata": {},
   "outputs": [
    {
     "data": {
      "text/html": [
       "<p>To authorize access needed by Earth Engine, open the following\n",
       "        URL in a web browser and follow the instructions:</p>\n",
       "        <p><a href=https://code.earthengine.google.com/client-auth?scopes=https%3A//www.googleapis.com/auth/earthengine%20https%3A//www.googleapis.com/auth/devstorage.full_control&request_id=1WxM_0Nvu7bCj_8jwf7x2NAjZs7Slpk--SREQRV5URc&tc=ynSHQpYDC1nDvquBDaIvWczYPCvVVr-Gt3nZtCrNVL4&cc=1mAB0Vfxoj3f6ZBVgoIzgzmkghiX3b1cEQX-AVwKyas>https://code.earthengine.google.com/client-auth?scopes=https%3A//www.googleapis.com/auth/earthengine%20https%3A//www.googleapis.com/auth/devstorage.full_control&request_id=1WxM_0Nvu7bCj_8jwf7x2NAjZs7Slpk--SREQRV5URc&tc=ynSHQpYDC1nDvquBDaIvWczYPCvVVr-Gt3nZtCrNVL4&cc=1mAB0Vfxoj3f6ZBVgoIzgzmkghiX3b1cEQX-AVwKyas</a></p>\n",
       "        <p>The authorization workflow will generate a code, which you\n",
       "        should paste in the box below</p>\n",
       "        "
      ],
      "text/plain": [
       "<IPython.core.display.HTML object>"
      ]
     },
     "metadata": {},
     "output_type": "display_data"
    },
    {
     "name": "stdin",
     "output_type": "stream",
     "text": [
      "Enter verification code:  4/1AfgeXvu4YWmqylnTlw0QeYqVgHn-l4rt2fGycQXIZ4qGQLvaUV_5LWl4zD4\n"
     ]
    },
    {
     "name": "stdout",
     "output_type": "stream",
     "text": [
      "\n",
      "Successfully saved authorization token.\n"
     ]
    }
   ],
   "source": [
    "ee.Authenticate()"
   ]
  },
  {
   "cell_type": "code",
   "execution_count": 3,
   "id": "5407974f-4f86-46bc-af53-adc376ba7904",
   "metadata": {},
   "outputs": [],
   "source": [
    "#Initialize Earth Engine\n",
    "ee.Initialize()\n"
   ]
  },
  {
   "cell_type": "code",
   "execution_count": 4,
   "id": "4bb68597-02cd-4541-ad7f-e96b44db611f",
   "metadata": {},
   "outputs": [],
   "source": [
    "#Palsar\n",
    "SWAVE_HH = ee.Image('users/NicholasPontone/mosaic_palsar_SWAVE_HH')\n",
    "SWAVE_HV = ee.Image('users/NicholasPontone/mosaic_palsar_SWAVE_HV')\n",
    "SWAVE_HVHH = ee.Image('projects/peatland-insar/assets/mosaic_palsar_SWAVE_HVHH')\n",
    "SWAVE_RFDI = ee.Image('projects/peatland-insar/assets/Mosaic_Palsar_RFDI')\n",
    "\n",
    "#12-Day Coherence VV\n",
    "spring_VV = ee.Image('projects/peatland-insar/assets/spring_vv_coh12_mosaic')\n",
    "summer_VV = ee.Image('projects/peatland-insar/assets/summer_vv_coh12_mosaic')\n",
    "fall_VV = ee.Image('projects/peatland-insar/assets/fall_vv_coh12_mosaic')\n",
    "\n",
    "#Backscatter\n",
    "spring_VV_amp = ee.Image('projects/ee-landsatpercentiles1/assets/Spring_VV_AMP')\n",
    "fall_VV_amp = ee.Image('projects/ee-landsatpercentiles1/assets/Fall_VV_AMP')\n",
    "\n",
    "#Landsat\n",
    "landsatB1 = ee.Image('projects/peatland-insar/assets/LandsatB1Mosaic')\n",
    "landsatB2 = ee.Image('projects/peatland-insar/assets/LandsatB2Mosaic')\n",
    "landsatB3 = ee.Image('projects/peatland-insar/assets/LandsatB3Mosaic')\n",
    "landsatB4 = ee.Image('users/NicholasPontone/LandsatB4Mosaic')\n",
    "landsatB5 = ee.Image('projects/peatland-insar/assets/LandsatB5Mosaic')\n",
    "landsatB7 = ee.Image('projects/peatland-insar/assets/LandsatB7Mosaic')\n",
    "\n",
    "#Forest Structure\n",
    "blackSpruce = ee.Image('users/NicholasPontone/BlackSpruce_tif')\n",
    "canopyHeight = ee.Image('users/NicholasPontone/height_tif')\n",
    "canopyClosure = ee.Image('users/NicholasPontone/closure_tif')\n",
    "\n",
    "#Topographic\n",
    "slope = ee.Image(\"users/koreenmillard/larch2/slope\")\n",
    "slope42309 = ee.Image(\"users/koreenmillard/larch2/slope42309\")\n",
    "elevation = ee.Image(\"users/koreenmillard/larch2/elevation\")\n",
    "\n",
    "#Bioclimatic\n",
    "bio2 = ee.Image(\"users/koreenmillard/larch2/BIO2\")\n",
    "bio4 = ee.Image(\"users/koreenmillard/larch2/BIO4\")\n",
    "\n",
    "#Misc Layers\n",
    "ecozone = ee.Image(\"users/koreenmillard/larch2/ecozone\")\n",
    "\n",
    "#Percentiles\n",
    "P10 = ee.Image(\"projects/ee-nicholaspontone/assets/WetnessPercentiles\")\n",
    "P40 = ee.Image(\"projects/ee-landsatpercentiles2/assets/WetnessP40\")\n",
    "P80 = ee.Image(\"projects/ee-landsatpercentiles1/assets/WetnessP80\")\n",
    "P90 = ee.Image(\"projects/ee-nicholaspontone/assets/WetnessP90\")\n",
    "\n",
    "#ALOS DSM\n",
    "ADSM = ee.Image(\"projects/ee-landsatpercentiles2/assets/ALOSDSM\")\n",
    "ASlope = ee.Image(\"projects/ee-landsatpercentiles2/assets/ALOSSlope\")\n",
    "\n",
    "\n",
    "#Haromic NDVI Landsat\n",
    "harmonic = ee.Image(\"projects/ee-harmonic-landsat/assets/HarmonicLandsatNDVI\")\n",
    "\n",
    "#Permafrost Prob\n",
    "Permafrostprob = ee.Image(\"projects/ee-landsatpercentiles2/assets/PermafrostProbability\")\n",
    "Permafrostprob = ee.Image(\"projects/ee-harmoniclandsat2/assets/PermafrostPolygons\")"
   ]
  },
  {
   "cell_type": "code",
   "execution_count": 24,
   "id": "0c0fd1b7-f14d-4f2e-8277-c33cc2fbd5e2",
   "metadata": {},
   "outputs": [],
   "source": [
    "#Vector Layers\n",
    "pointData = ee.FeatureCollection(\"projects/ee-nicholaspontone/assets/TrainingData20220726_WetlandTypes_DanDucks\");\n",
    "\n",
    "#polygon = ee.FeatureCollection(\"users/NicholasPontone/PeatlandClassification/OntarioTiles\")\n",
    "polygon = ee.FeatureCollection(\"projects/ee-nicholaspontone/assets/QuebecTiles20220729\")\n",
    "#polygon = ee.FeatureCollection(\"users/koreenmillard/fishnet150x150_peatextent_selected\")\n",
    "#polygon = ee.FeatureCollection(\"users/NicholasPontone/WoodBuffaloTiles\")\n",
    "#polygon = ee.FeatureCollection(\"projects/ee-nicholaspontone/assets/FortSimpsonTiles\")\n",
    "#polygon = ee.FeatureCollection(\"projects/ee-nicholaspontone/assets/Yas_Tiles\")\n",
    "#Spatial Autocorrelation\n",
    "\n",
    "waterpoints = ee.FeatureCollection(\"projects/ee-nicholaspontone/assets/GSW95Points20220906\")\n",
    "\n",
    "AutoC500m = ee.FeatureCollection(\"projects/ee-landsatpercentiles1/assets/AutoCPoints1000m\")\n",
    "\n",
    "AutoC1000m = ee.FeatureCollection(\"projects/ee-landsatpercentiles1/assets/AutoCPoints1000m\")"
   ]
  },
  {
   "cell_type": "code",
   "execution_count": 6,
   "id": "30f70f3c-9c8a-4aa1-b280-eddb26a8983a",
   "metadata": {},
   "outputs": [],
   "source": [
    "#Project data and resample to 30m spatial resolution\n",
    "proj = ee.Projection('EPSG:3857')\n",
    "\n",
    "#Palsar\n",
    "SWAVE_HH = SWAVE_HH.reproject(proj, None, 30)\n",
    "SWAVE_HV = SWAVE_HV.reproject(proj, None, 30)\n",
    "SWAVE_HVHH = SWAVE_HVHH.reproject(proj, None, 30)\n",
    "SWAVE_RFDI = SWAVE_RFDI.reproject(proj, None, 30)\n",
    "\n",
    "#Sentinel1 Coherence\n",
    "spring_VV = spring_VV.reproject(proj, None, 30)\n",
    "summer_VV = summer_VV.reproject(proj, None, 30)\n",
    "fall_VV = fall_VV.reproject(proj, None, 30)\n",
    "\n",
    "#S1 backscatter\n",
    "\n",
    "spring_VV_amp = spring_VV_amp.reproject(proj, None, 30)\n",
    "fall_VV_amp = fall_VV_amp.reproject(proj, None, 30)\n",
    "\n",
    "#Landsat\n",
    "landsatB1 = landsatB1.reproject(proj, None, 30)\n",
    "landsatB2 = landsatB2.reproject(proj, None, 30)\n",
    "landsatB3 = landsatB3.reproject(proj, None, 30)\n",
    "landsatB4 = landsatB4.reproject(proj, None, 30)\n",
    "landsatB5 = landsatB5.reproject(proj, None, 30)\n",
    "landsatB7 = landsatB7.reproject(proj, None, 30)\n",
    "\n",
    "#Forest Structure\n",
    "blackSpruce = blackSpruce.reproject(proj, None, 30)\n",
    "canopyHeight = canopyHeight.reproject(proj, None, 30)\n",
    "canopyClosure = canopyClosure.reproject(proj, None, 30)\n",
    "\n",
    "#Terrain\n",
    "slope = slope.reproject(proj, None, 30)\n",
    "slope42309 = slope42309.reproject(proj, None, 30)\n",
    "elevation = elevation.reproject(proj, None, 30)\n",
    "\n",
    "#Bioclimatic\n",
    "bio2 = bio2.reproject(proj, None, 30)\n",
    "bio4 = bio4.reproject(proj, None, 30)\n",
    "\n",
    "#Misc Layers\n",
    "ecozone = ecozone.reproject(proj, None, 30)\n",
    "\n",
    "#Percentiles\n",
    "P10 = P10.reproject(proj, None, 30)\n",
    "P40 = P40.reproject(proj, None, 30)\n",
    "P80 = P80.reproject(proj, None, 30)\n",
    "P90 = P90.reproject(proj, None, 30)\n",
    "\n",
    "\n",
    "#ALOS\n",
    "ADSM = ADSM.reproject(proj, None, 30)\n",
    "ASlope = ASlope.reproject(proj, None, 30)\n",
    "\n",
    "\n",
    "#Haromic NDVI Landsat\n",
    "harmonic = harmonic.reproject(proj, None, 30)\n",
    "\n",
    "#Permafrost Probability\n",
    "Permafrostprob = Permafrostprob.reproject(proj, None, 30)"
   ]
  },
  {
   "cell_type": "code",
   "execution_count": 7,
   "id": "f6dc32ab-6c20-4349-a40e-3593ab3a0b11",
   "metadata": {},
   "outputs": [
    {
     "data": {
      "text/plain": [
       "['B1', 'B2', 'B3', 'B4', 'B5', 'B7']"
      ]
     },
     "execution_count": 7,
     "metadata": {},
     "output_type": "execute_result"
    }
   ],
   "source": [
    "Landsat = landsatB1.addBands(landsatB2).addBands(landsatB3).addBands(landsatB4).addBands(landsatB5).addBands(landsatB7)\n",
    "Landsat2 = Landsat.rename('B1','B2','B3','B4','B5','B7')\n",
    "Landsat2_Bands = Landsat2.bandNames()\n",
    "Landsat2_Bands.getInfo()"
   ]
  },
  {
   "cell_type": "code",
   "execution_count": 8,
   "id": "0edb3a11-cd84-43c1-a8e7-68a87c44f1ff",
   "metadata": {},
   "outputs": [],
   "source": [
    "image = ee.Image(1)\n",
    "\n",
    "#Functions\n",
    "\n",
    "def addSATVI(image):\n",
    "    calcSATVI = image.expression('(((B5-B3)/(B5+B3+0.5))*(1+0.5))-(B7/2)', {\n",
    "        'B3': image.select ('B3').float(),\n",
    "        'B5': image.select ('B5').float(),\n",
    "        'B7': image.select ('B7').float(),\n",
    "        }).rename('SATVI')\n",
    "    return image.addBands(calcSATVI)\n",
    "\n",
    "def addMSAVI2(image) :\n",
    "    calcMSAVI2 = image.expression(\n",
    "        '((2.0*(B4 +1)) - sqrt(((2.0*(B4+1))*(2.0*(B4+1))) - (8.0 * (B4 - B3))))/2.0', {\n",
    "        'B4': image.select ('B4').float(),\n",
    "        'B3': image.select ('B3').float(),\n",
    "        }).rename('MSAVI2');\n",
    "    return image.addBands(calcMSAVI2)\n",
    "\n",
    "def addEVI(image):\n",
    "    calcEVI = image.expression(\n",
    "        '2.5 * ((NIR - RED) / (NIR + 6 * RED - 7.5 * BLUE + 1))', {\n",
    "        'NIR': image.select('B4'),\n",
    "        'RED': image.select('B3'),\n",
    "        'BLUE': image.select('B1'),\n",
    "        }).rename('EVI');\n",
    "    return image.addBands(calcEVI);\n",
    "\n",
    "def addSAVI(image):\n",
    "    calcSAVI = image.expression(\n",
    "        '((B5 - B4) / (B5 + B4 + 0.5)) * (1.0 + 0.5)', {\n",
    "        'B5': image.select ('B5').float(),\n",
    "        'B4': image.select ('B4').float(),\n",
    "        }).rename('SAVI');\n",
    "    return image.addBands(calcSAVI);"
   ]
  },
  {
   "cell_type": "code",
   "execution_count": 9,
   "id": "d57a927e-d21a-4915-9aa0-445e4f7757fc",
   "metadata": {},
   "outputs": [],
   "source": [
    "Landsat3 = ee.ImageCollection(Landsat2)\\\n",
    "                  .map(addEVI) \\\n",
    "                  .map(addSAVI) \\\n",
    "                  .map(addSATVI) \\\n",
    "                  .map(addMSAVI2) \\\n",
    "                  .mosaic()"
   ]
  },
  {
   "cell_type": "code",
   "execution_count": 10,
   "id": "46d2045e-8b6b-4079-a308-2665985f7735",
   "metadata": {},
   "outputs": [
    {
     "data": {
      "text/plain": [
       "['B1', 'B2', 'B3', 'B4', 'B5', 'B7', 'EVI', 'SAVI', 'SATVI', 'MSAVI2']"
      ]
     },
     "execution_count": 10,
     "metadata": {},
     "output_type": "execute_result"
    }
   ],
   "source": [
    "Landsat_Bands = Landsat3.bandNames()\n",
    "Landsat_Bands.getInfo()"
   ]
  },
  {
   "cell_type": "code",
   "execution_count": 11,
   "id": "d2498cdb-52c6-4823-adbb-f358033e66ca",
   "metadata": {},
   "outputs": [],
   "source": [
    "stacked_composite = SWAVE_HH.addBands(SWAVE_HV)\\\n",
    ".addBands(SWAVE_HVHH).addBands(SWAVE_RFDI).addBands(spring_VV).addBands(summer_VV)\\\n",
    ".addBands(fall_VV).addBands(Landsat3).addBands(blackSpruce).addBands(canopyHeight)\\\n",
    ".addBands(canopyClosure).addBands(slope).addBands(slope42309)\\\n",
    ".addBands(elevation).addBands(bio2).addBands(bio4).addBands(ecozone)\\\n",
    ".addBands(P10).addBands(P40).addBands(P80).addBands(P90).addBands(harmonic)\\\n",
    ".addBands(spring_VV_amp).addBands(fall_VV_amp).addBands(Permafrostprob)"
   ]
  },
  {
   "cell_type": "code",
   "execution_count": 12,
   "id": "10204357-93e2-42c9-a800-f72d05f1a87c",
   "metadata": {},
   "outputs": [],
   "source": [
    "Names = [\"SWAVE_HH\",\"SWAVE_HV\",\"SWAVE_HVHH\",\"SWAVE_RFDI\",\"spring_VV\",\"summer_VV\",\"fall_VV\",'B1', 'B2', 'B3', 'B4', 'B5', 'B7', 'EVI', 'SAVI', 'SATVI', 'MSAVI2'\n",
    "         ,'blackSpruce','canopyHeight','canopyClosure','slope','slope42309','elevation','bio2','bio4','ecozone','P10','P40','P80','P90','NDVIPhase','NDVIAmp','NDVIMean','spring_VV_amp','fall_VV_amp','PF_prob']"
   ]
  },
  {
   "cell_type": "code",
   "execution_count": 13,
   "id": "9cc1435b-f575-45a9-b4c9-f225c0918eeb",
   "metadata": {},
   "outputs": [],
   "source": [
    "band_names = stacked_composite.bandNames()\n",
    "stacked_composite2 = stacked_composite.select(band_names).rename(Names)"
   ]
  },
  {
   "cell_type": "code",
   "execution_count": 14,
   "id": "c8431876-c337-40fc-9871-1bcbe1081178",
   "metadata": {},
   "outputs": [
    {
     "data": {
      "text/plain": [
       "['SWAVE_HH',\n",
       " 'SWAVE_HV',\n",
       " 'SWAVE_HVHH',\n",
       " 'SWAVE_RFDI',\n",
       " 'spring_VV',\n",
       " 'summer_VV',\n",
       " 'fall_VV',\n",
       " 'B1',\n",
       " 'B2',\n",
       " 'B3',\n",
       " 'B4',\n",
       " 'B5',\n",
       " 'B7',\n",
       " 'EVI',\n",
       " 'SAVI',\n",
       " 'SATVI',\n",
       " 'MSAVI2',\n",
       " 'blackSpruce',\n",
       " 'canopyHeight',\n",
       " 'canopyClosure',\n",
       " 'slope',\n",
       " 'slope42309',\n",
       " 'elevation',\n",
       " 'bio2',\n",
       " 'bio4',\n",
       " 'ecozone',\n",
       " 'P10',\n",
       " 'P40',\n",
       " 'P80',\n",
       " 'P90',\n",
       " 'NDVIPhase',\n",
       " 'NDVIAmp',\n",
       " 'NDVIMean',\n",
       " 'spring_VV_amp',\n",
       " 'fall_VV_amp',\n",
       " 'PF_prob']"
      ]
     },
     "execution_count": 14,
     "metadata": {},
     "output_type": "execute_result"
    }
   ],
   "source": [
    "stacked_composite2.bandNames().getInfo()"
   ]
  },
  {
   "cell_type": "code",
   "execution_count": 15,
   "id": "30ee34ce-16c7-427f-b7e9-234eb61de438",
   "metadata": {},
   "outputs": [
    {
     "name": "stdout",
     "output_type": "stream",
     "text": [
      "Band names: ['SWAVE_HH', 'SWAVE_HV', 'SWAVE_HVHH', 'SWAVE_RFDI', 'spring_VV', 'summer_VV', 'fall_VV', 'B1', 'B2', 'B3', 'B4', 'B5', 'B7', 'EVI', 'SAVI', 'SATVI', 'MSAVI2', 'blackSpruce', 'canopyHeight', 'canopyClosure', 'slope', 'slope42309', 'elevation', 'bio2', 'bio4', 'ecozone', 'P10', 'P40', 'P80', 'P90', 'NDVIPhase', 'NDVIAmp', 'NDVIMean', 'spring_VV_amp', 'fall_VV_amp', 'PF_prob']\n"
     ]
    }
   ],
   "source": [
    "proj = ee.Projection('EPSG:3857');\n",
    "\n",
    "#Clip images to AOI\n",
    "clippedAndre = stacked_composite2.clipToCollection(polygon);\n",
    "tempList = clippedAndre.bandNames()\n",
    "print('Band names:', tempList.getInfo())"
   ]
  },
  {
   "cell_type": "code",
   "execution_count": 19,
   "id": "6557407f-59a4-4cce-8a44-61541b789348",
   "metadata": {},
   "outputs": [],
   "source": [
    "# Extract pixel values to training data points\n",
    "training = clippedAndre.sampleRegions(\n",
    "  collection = waterpoints,\n",
    "  properties = ['PeatlandTy'],\n",
    "  geometries = True,\n",
    "  scale = 30\n",
    ")"
   ]
  },
  {
   "cell_type": "code",
   "execution_count": 20,
   "id": "fe8673a7-1125-4116-82d5-525db6a9fffa",
   "metadata": {},
   "outputs": [],
   "source": [
    "#Execute task and export training data to cloud storage\n",
    "task = geemap.ee.batch.Export.table.toCloudStorage(\n",
    "    collection = training,\n",
    "    description = 'trainingData_LS5',\n",
    "    fileNamePrefix = 'TrainingData_WaterPoints_20230105',\n",
    "    bucket = 'nick-pontone-bucket',\n",
    "    fileFormat = 'CSV'\n",
    ")\n",
    "\n",
    "#'TrainingDataDanDucks_33BandsJuly',  #Change to fileNameChange\n",
    "\n",
    "task.start()"
   ]
  },
  {
   "cell_type": "code",
   "execution_count": null,
   "id": "09801f43-d376-4d68-8c47-817afb4bf2f7",
   "metadata": {},
   "outputs": [],
   "source": [
    "#YOU ONLY NEED TO RUN THIS CELL IF YOU DO NOT HAVE THE TILES, IF YOU HAVE THE TILES.\n",
    "fc = ee.FeatureCollection(polygon)\n",
    "#print(fc)\n",
    "\n",
    "emptyList = []\n",
    "\n",
    "featlist = fc.getInfo()[\"features\"];\n",
    "for f in range(len(featlist)):\n",
    "    feat = ee.Feature(featlist[f])\n",
    "    dis = feat.get(\"TileID\")\n",
    "    disS = dis.getInfo()\n",
    "    \n",
    "    print(\"Tile = \", disS, \"but f = \", f)\n",
    "    nameA = \"Quebec\"\n",
    "    #Sets up the export rules\n",
    "    task = geemap.ee.batch.Export.image.toCloudStorage(\n",
    "         image = clippedAndre.toFloat(),\n",
    "         description = nameA + str(disS),\n",
    "         bucket = 'nick-pontone-bucket',\n",
    "         fileNamePrefix = 'PeatlandClassification/QuebecTiles' + '/' +  nameA + str(disS),\n",
    "         region = feat.geometry().bounds(),\n",
    "         scale = 30\n",
    "        )\n",
    "    \n",
    "        #Starts the task\n",
    "    task.start()\n"
   ]
  },
  {
   "cell_type": "code",
   "execution_count": 3,
   "id": "ace50d6d-2b9b-4861-bab0-fb6e4c8870dd",
   "metadata": {},
   "outputs": [],
   "source": [
    "df1 = pd.read_csv(\"C:\\\\Users\\\\Nicho\\\\Documents\\\\Masters_Analyis\\TrainingData\\\\Permafrost\\\\TrainingData_AllPoints_20221104(1).csv\")\n",
    "df2 = pd.read_csv(\"C:\\\\Users\\\\Nicho\\\\Documents\\\\Masters_Analyis\\TrainingData\\\\Permafrost\\\\TrainingData_WaterPoints_20221104(1).csv\")\n",
    "\n",
    "concatDF = pd.concat([df1,df2])"
   ]
  },
  {
   "cell_type": "code",
   "execution_count": 35,
   "id": "eed097f8-78b1-4903-af19-ac4a9bfdc710",
   "metadata": {},
   "outputs": [
    {
     "ename": "NameError",
     "evalue": "name 'concatDF' is not defined",
     "output_type": "error",
     "traceback": [
      "\u001b[1;31m---------------------------------------------------------------------------\u001b[0m",
      "\u001b[1;31mNameError\u001b[0m                                 Traceback (most recent call last)",
      "\u001b[1;32m~\\AppData\\Local\\Temp/ipykernel_125248/599020312.py\u001b[0m in \u001b[0;36m<module>\u001b[1;34m\u001b[0m\n\u001b[1;32m----> 1\u001b[1;33m \u001b[0mconcatDF\u001b[0m\u001b[1;33m.\u001b[0m\u001b[0mto_csv\u001b[0m\u001b[1;33m(\u001b[0m\u001b[1;34m\"C:\\\\Users\\\\Nicho\\\\Documents\\\\Masters_Analyis\\TrainingData\\\\Permafrost\\\\TrainingData_PFTest_20221107.csv\"\u001b[0m\u001b[1;33m)\u001b[0m\u001b[1;33m\u001b[0m\u001b[1;33m\u001b[0m\u001b[0m\n\u001b[0m",
      "\u001b[1;31mNameError\u001b[0m: name 'concatDF' is not defined"
     ]
    }
   ],
   "source": [
    "concatDF.to_csv(\"C:\\\\Users\\\\Nicho\\\\Documents\\\\Masters_Analyis\\TrainingData\\\\Permafrost\\\\TrainingData_PFTest_20221107.csv\")"
   ]
  },
  {
   "cell_type": "code",
   "execution_count": 21,
   "id": "ffe972c8-0fc0-42b2-a317-ab0cbbd6f055",
   "metadata": {},
   "outputs": [],
   "source": [
    "#Read in training data\n",
    "#trainingDataXD = pd.read_csv('C:\\\\Users\\\\Nicho\\\\Documents\\\\Masters_Analyis\\TrainingData\\\\Permafrost\\\\TrainingData_PFTest_20221107.csv')\n",
    "trainingDataXD = pd.read_csv('C:\\\\Users\\\\Nicho\\\\Documents\\\\Masters_Analyis\\TrainingData\\\\Permafrost\\\\TrainingData_AllPoints_20230105.csv')\n",
    "\n",
    "#Drop Index and .GEO columns\n",
    "trainingDataXD.drop(labels='system:index', axis=1, inplace=True)\n",
    "trainingDataXD.drop(labels='.geo', axis=1, inplace=True)\n",
    "#trainingDataXD.drop(labels= ['x','y','field_1','Unnamed: 0'], axis = 1, inplace=True)\n",
    "trainingDataXD = trainingDataXD.dropna()"
   ]
  },
  {
   "cell_type": "code",
   "execution_count": null,
   "id": "d202edd3-a5ec-48f6-b182-c4044123749b",
   "metadata": {},
   "outputs": [],
   "source": [
    "ColumnTitles = ['SWAVE_HH', 'SWAVE_HV', 'SWAVE_HVHH', 'SWAVE_RFDI', 'spring_VV', 'summer_VV', 'fall_VV', 'B1', 'B2', 'B3', 'B4', 'B5', 'B7', 'EVI', 'SAVI', 'SATVI', 'MSAVI2', 'blackSpruce', 'canopyHeight', 'canopyClosure', 'slope', 'slope42309', 'elevation', 'bio2', 'bio4', 'ecozone', 'P10', 'P40', 'P80', 'P90', 'NDVIPhase', 'NDVIAmp', 'NDVIMean','PeatlandTy','spring_VV_amp','fall_VV_amp','PFP_prob']\n",
    "trainingDataXD = trainingDataXD.reindex(columns = ColumnTitles)"
   ]
  },
  {
   "cell_type": "code",
   "execution_count": null,
   "id": "1f48acbe-3053-4163-8c6b-4863795e0196",
   "metadata": {},
   "outputs": [],
   "source": [
    "trainingDataXD = trainingDataXD.rename(columns = {'B1': 'Coastal Aerosal','B2': 'Blue','B3': 'Green','B4':'Red','B5':'NIR','B7':'SWIR'})"
   ]
  },
  {
   "cell_type": "code",
   "execution_count": 77,
   "id": "8d6aad34-dc7c-4640-a0cc-93f6a9af7e88",
   "metadata": {},
   "outputs": [],
   "source": [
    "#Dropping bands\n",
    "\n",
    "####Stage 1####\n",
    "#trainingDataXD.drop(labels = ['elevation','slope','slope42309','bio2', 'bio4', 'ecozone','blackSpruce','fall_VV', 'spring_VV', 'summer_VV','spring_VV_amp','fall_VV_amp'], axis = 1, inplace = True)\n",
    "\n",
    "####Stage 2 and 3####\n",
    "trainingDataXD.drop(labels = ['elevation','slope','slope42309','bio2', 'bio4', 'ecozone','blackSpruce'], axis = 1, inplace = True)"
   ]
  },
  {
   "cell_type": "code",
   "execution_count": 78,
   "id": "ba416e79-dd9f-400f-90f3-0fce5382994e",
   "metadata": {},
   "outputs": [
    {
     "data": {
      "text/plain": [
       "Index(['SWAVE_HH', 'SWAVE_HV', 'SWAVE_HVHH', 'SWAVE_RFDI', 'spring_VV',\n",
       "       'summer_VV', 'fall_VV', 'Coastal Aerosal', 'Blue', 'Green', 'Red',\n",
       "       'NIR', 'SWIR', 'EVI', 'SAVI', 'SATVI', 'MSAVI2', 'canopyHeight',\n",
       "       'canopyClosure', 'P10', 'P40', 'P80', 'P90', 'NDVIPhase', 'NDVIAmp',\n",
       "       'NDVIMean', 'PeatlandTy', 'spring_VV_amp', 'fall_VV_amp', 'PFP_prob'],\n",
       "      dtype='object')"
      ]
     },
     "execution_count": 78,
     "metadata": {},
     "output_type": "execute_result"
    }
   ],
   "source": [
    "trainingDataXD.columns"
   ]
  },
  {
   "cell_type": "code",
   "execution_count": 7,
   "id": "7923aac3-52af-47c1-b82a-9d899f08f456",
   "metadata": {},
   "outputs": [],
   "source": [
    "##Stage 1 feature selection\n",
    "trainingDataXD = trainingDataXD[['SWAVE_HH', 'SWAVE_HV', 'Red', 'NIR', 'SWIR', 'SATVI', 'MSAVI2', 'P10',\n",
    "       'NDVIPhase', 'NDVIAmp','PeatlandTy']]\n",
    "\n",
    "##Stage 2 feature selection\n",
    "#trainingDataXD = trainingDataXD[['SWAVE_HH', 'SWAVE_HV', 'SWAVE_HVHH', 'spring_VV', 'summer_VV',\n",
    "#       'fall_VV', 'Red', 'MSAVI2', 'P80', 'P90', 'NDVIPhase', 'NDVIAmp',\n",
    "#       'NDVIMean','PeatlandTy']]"
   ]
  },
  {
   "cell_type": "code",
   "execution_count": 79,
   "id": "4db50360-9165-4126-817a-3c192f98c4d1",
   "metadata": {},
   "outputs": [],
   "source": [
    "#Create class dictionary\n",
    "Class_Dictionary = {'FB':0, 'FP':1, 'FPFC':2, 'FR':3, 'FUL':4, 'FUNK':5, 'OB':6,'OP':7, 'OPFC':8, 'OR':9, 'OUL':10, 'OUNK':11,'TB':12, 'TP':13, 'TPFC':14, 'TR':15, 'TUL':16, 'TUNK':17, 'MAR':18, 'SWP':19,'WA':20}\n",
    "\n",
    "#Assigning classes numerical values based on dictionary\n",
    "trainingDataXD['PeatlandTy'] = trainingDataXD['PeatlandTy'].map(Class_Dictionary)"
   ]
  },
  {
   "cell_type": "code",
   "execution_count": 80,
   "id": "2ceb1870-6b16-4a6a-8363-ca5e688fb7f4",
   "metadata": {},
   "outputs": [],
   "source": [
    "#Replace unknown peat with -1 to mark it as unlabelled\n",
    "trainingDataXD['PeatlandTy'] = trainingDataXD['PeatlandTy'].replace([5,11,17],-1)\n",
    "\n",
    "\n",
    "#Reclass so that wetlands = 1 and upland =2 and water =3. Stage 1\n",
    "#trainingDataXD['PeatlandTy'] = trainingDataXD['PeatlandTy'].replace([-1,0,1,2,3,6,7,8,9,12,13,14,15,18,19],1)\n",
    "#trainingDataXD['PeatlandTy'] = trainingDataXD['PeatlandTy'].replace([4,10,16],2)\n",
    "#trainingDataXD['PeatlandTy'] = trainingDataXD['PeatlandTy'].replace([20],3)\n",
    "\n",
    "\n",
    "#Reclass so that peatlands = 1 and mineral wetlands = 2.  Stage 2\n",
    "#trainingDataXD['PeatlandTy'] = trainingDataXD['PeatlandTy'].replace([-1,0,1,2,3,6,7,8,9,12,13,14,15],1)\n",
    "#trainingDataXD['PeatlandTy'] = trainingDataXD['PeatlandTy'].replace([18,19],2)\n",
    "#trainingDataXD = trainingDataXD.query(\"PeatlandTy != [10,16,4,20]\")\n",
    "\n",
    "\n",
    "#Reclass so that Bog = 1, Rich Fen = 2, Poor Fen =3, permafrost = 4. Stage 3\n",
    "trainingDataXD = trainingDataXD[trainingDataXD['PeatlandTy'].isin([0,12,6,3,9,15,1,7,13,2,8,14,-1])] \n",
    "trainingDataXD['PeatlandTy'] = trainingDataXD['PeatlandTy'].replace([0,12,6,3,9,15,1,7,13,2,8,14],[1,1,1,2,2,2,3,3,3,4,4,4])\n",
    "trainingDataXD = trainingDataXD.query(\"PeatlandTy != [10,16,20,-1]\")\n",
    "\n",
    "\n",
    "\n"
   ]
  },
  {
   "cell_type": "code",
   "execution_count": 81,
   "id": "8d97cfb1-cbe7-4052-9a30-5d855f0778cb",
   "metadata": {},
   "outputs": [],
   "source": [
    "trainingDataXD = trainingDataXD.dropna()"
   ]
  },
  {
   "cell_type": "code",
   "execution_count": 82,
   "id": "8814e83e-83f9-41d0-be24-c1001e5446cc",
   "metadata": {},
   "outputs": [
    {
     "data": {
      "text/plain": [
       "4.0    479\n",
       "3.0    291\n",
       "2.0    272\n",
       "1.0    233\n",
       "Name: PeatlandTy, dtype: int64"
      ]
     },
     "execution_count": 82,
     "metadata": {},
     "output_type": "execute_result"
    }
   ],
   "source": [
    "trainingDataXD['PeatlandTy'].value_counts()"
   ]
  },
  {
   "cell_type": "code",
   "execution_count": 12,
   "id": "7d998d11-ea7a-4244-b49d-2fd02d239084",
   "metadata": {},
   "outputs": [],
   "source": [
    "Unlabelled = trainingDataXD[trainingDataXD['PeatlandTy'] == -1]\n",
    "trainingDataXD = trainingDataXD[trainingDataXD['PeatlandTy'] != -1]"
   ]
  },
  {
   "cell_type": "code",
   "execution_count": 83,
   "id": "e48fae48-27f2-436c-b208-dcb2ed87b09f",
   "metadata": {},
   "outputs": [],
   "source": [
    "labels = trainingDataXD['PeatlandTy']\n",
    "#labels = pd.Series(labels, name = \"Names\")\n",
    "#labels = labels.to_frame()\n",
    "\n",
    "#labels[\"id\"] = labels.groupby(['Names']).ngroup()\n",
    "#labels = labels[\"id\"]\n",
    "#labels = labels.squeeze()\n",
    "trainingDataXD = trainingDataXD.drop(columns = ['PeatlandTy'])"
   ]
  },
  {
   "cell_type": "code",
   "execution_count": 258,
   "id": "b2dd888e-91e7-4d88-984d-a5a679dbf063",
   "metadata": {},
   "outputs": [],
   "source": [
    "Unlabelled_Labels = Unlabelled['PeatlandTy']\n",
    "Unlabelled_Predictors = Unlabelled.drop(columns = ['PeatlandTy'])"
   ]
  },
  {
   "cell_type": "code",
   "execution_count": 84,
   "id": "b9a03c2b-7984-47ce-ab28-368e1ade3cb6",
   "metadata": {},
   "outputs": [],
   "source": [
    "x_train, x_test, y_train, y_test = train_test_split(trainingDataXD, labels, test_size=0.30,random_state=6)"
   ]
  },
  {
   "cell_type": "code",
   "execution_count": 18,
   "id": "f119b6aa-96f6-4a3a-881e-de9d77dcb44e",
   "metadata": {},
   "outputs": [
    {
     "ename": "NameError",
     "evalue": "name 'Unlabelled_Predictors' is not defined",
     "output_type": "error",
     "traceback": [
      "\u001b[1;31m---------------------------------------------------------------------------\u001b[0m",
      "\u001b[1;31mNameError\u001b[0m                                 Traceback (most recent call last)",
      "\u001b[1;32m~\\AppData\\Local\\Temp/ipykernel_104496/2939960803.py\u001b[0m in \u001b[0;36m<module>\u001b[1;34m\u001b[0m\n\u001b[0;32m      1\u001b[0m \u001b[0mx_train\u001b[0m \u001b[1;33m=\u001b[0m \u001b[0mpd\u001b[0m\u001b[1;33m.\u001b[0m\u001b[0mDataFrame\u001b[0m\u001b[1;33m(\u001b[0m\u001b[0mx_train\u001b[0m\u001b[1;33m)\u001b[0m\u001b[1;33m\u001b[0m\u001b[1;33m\u001b[0m\u001b[0m\n\u001b[1;32m----> 2\u001b[1;33m \u001b[0mx_train\u001b[0m \u001b[1;33m=\u001b[0m \u001b[0mpd\u001b[0m\u001b[1;33m.\u001b[0m\u001b[0mconcat\u001b[0m\u001b[1;33m(\u001b[0m\u001b[1;33m[\u001b[0m\u001b[0mx_train\u001b[0m\u001b[1;33m,\u001b[0m \u001b[0mUnlabelled_Predictors\u001b[0m\u001b[1;33m]\u001b[0m\u001b[1;33m)\u001b[0m\u001b[1;33m\u001b[0m\u001b[1;33m\u001b[0m\u001b[0m\n\u001b[0m\u001b[0;32m      3\u001b[0m \u001b[0mx_train\u001b[0m \u001b[1;33m=\u001b[0m \u001b[0mx_train\u001b[0m\u001b[1;33m.\u001b[0m\u001b[0mvalues\u001b[0m\u001b[1;33m[\u001b[0m\u001b[1;36m0\u001b[0m\u001b[1;33m:\u001b[0m\u001b[0mlen\u001b[0m\u001b[1;33m(\u001b[0m\u001b[0mx_train\u001b[0m\u001b[1;33m)\u001b[0m\u001b[1;33m]\u001b[0m\u001b[1;33m\u001b[0m\u001b[1;33m\u001b[0m\u001b[0m\n\u001b[0;32m      4\u001b[0m \u001b[1;33m\u001b[0m\u001b[0m\n\u001b[0;32m      5\u001b[0m \u001b[0my_train\u001b[0m \u001b[1;33m=\u001b[0m \u001b[0mpd\u001b[0m\u001b[1;33m.\u001b[0m\u001b[0mconcat\u001b[0m\u001b[1;33m(\u001b[0m\u001b[1;33m[\u001b[0m\u001b[0my_train\u001b[0m\u001b[1;33m,\u001b[0m \u001b[0mUnlabelled_Labels\u001b[0m\u001b[1;33m]\u001b[0m\u001b[1;33m)\u001b[0m\u001b[1;33m\u001b[0m\u001b[1;33m\u001b[0m\u001b[0m\n",
      "\u001b[1;31mNameError\u001b[0m: name 'Unlabelled_Predictors' is not defined"
     ]
    }
   ],
   "source": [
    "x_train = pd.DataFrame(x_train)\n",
    "x_train = pd.concat([x_train, Unlabelled_Predictors])\n",
    "x_train = x_train.values[0:len(x_train)]\n",
    "\n",
    "y_train = pd.concat([y_train, Unlabelled_Labels])"
   ]
  },
  {
   "cell_type": "code",
   "execution_count": 85,
   "id": "24c19fb9-50e9-4b87-bed2-3aa3fa6e47c0",
   "metadata": {},
   "outputs": [],
   "source": [
    "#Define Classifier\n",
    "RF = RandomForestClassifier(n_estimators = 1000, random_state=157, n_jobs=-1)"
   ]
  },
  {
   "cell_type": "code",
   "execution_count": 86,
   "id": "a09c61ce-debd-459e-b0e3-23911897898c",
   "metadata": {},
   "outputs": [
    {
     "data": {
      "text/plain": [
       "RandomForestClassifier(n_estimators=1000, n_jobs=-1, random_state=157)"
      ]
     },
     "execution_count": 86,
     "metadata": {},
     "output_type": "execute_result"
    }
   ],
   "source": [
    "#Train RF\n",
    "RF.fit(x_train,y_train)"
   ]
  },
  {
   "cell_type": "code",
   "execution_count": 87,
   "id": "d435d0e3-f97d-4bb4-b07d-13cc42f44df0",
   "metadata": {},
   "outputs": [],
   "source": [
    "Results = RF.predict(x_test)"
   ]
  },
  {
   "cell_type": "code",
   "execution_count": 88,
   "id": "47ee3658-3bd4-4ab9-90db-7d71ec60e7aa",
   "metadata": {},
   "outputs": [
    {
     "name": "stdout",
     "output_type": "stream",
     "text": [
      "---------- Random Forest - Evaluation on Test Data ----------\n",
      "Accuracy Score:  0.7310704960835509\n"
     ]
    },
    {
     "name": "stderr",
     "output_type": "stream",
     "text": [
      "C:\\Users\\Nicho\\miniconda3\\envs\\geom2005\\lib\\site-packages\\sklearn\\base.py:450: UserWarning: X does not have valid feature names, but RandomForestClassifier was fitted with feature names\n",
      "  warnings.warn(\n",
      "C:\\Users\\Nicho\\miniconda3\\envs\\geom2005\\lib\\site-packages\\sklearn\\base.py:450: UserWarning: X does not have valid feature names, but RandomForestClassifier was fitted with feature names\n",
      "  warnings.warn(\n"
     ]
    },
    {
     "name": "stdout",
     "output_type": "stream",
     "text": [
      "              precision    recall  f1-score   support\n",
      "\n",
      "         1.0       0.73      0.48      0.58        66\n",
      "         2.0       0.67      0.72      0.69        82\n",
      "         3.0       0.59      0.66      0.62        91\n",
      "         4.0       0.86      0.90      0.88       144\n",
      "\n",
      "    accuracy                           0.73       383\n",
      "   macro avg       0.71      0.69      0.69       383\n",
      "weighted avg       0.73      0.73      0.73       383\n",
      "\n",
      "Predicted  1.0  2.0  3.0  4.0  All\n",
      "Actual                            \n",
      "1.0         32    2   23    9   66\n",
      "2.0          2   59   15    6   82\n",
      "3.0          7   18   60    6   91\n",
      "4.0          3    9    3  129  144\n",
      "All         44   88  101  150  383\n"
     ]
    }
   ],
   "source": [
    "print('---------- Random Forest - Evaluation on Test Data ----------')\n",
    "accuracy_score_ST = RF.score(x_test.values, y_test)\n",
    "print('Accuracy Score: ', accuracy_score_ST)\n",
    "# Look at classification report to evaluate the model\n",
    "print(classification_report(y_test, RF.predict(x_test.values),zero_division=0))\n",
    "\n",
    "confusion = pd.crosstab(y_test, Results, rownames=['Actual'], colnames=['Predicted'], margins=True)\n",
    "print(confusion)"
   ]
  },
  {
   "cell_type": "code",
   "execution_count": 34,
   "id": "c371d6c6-6db5-41f3-af6a-5e781d961797",
   "metadata": {},
   "outputs": [],
   "source": [
    "#Feature selection\n",
    "from sklearn.feature_selection import RFE\n",
    "from sklearn.linear_model import LogisticRegression\n",
    "from sklearn.feature_selection import SequentialFeatureSelector\n",
    "from sklearn.feature_selection import SelectKBest, mutual_info_regression"
   ]
  },
  {
   "cell_type": "code",
   "execution_count": 35,
   "id": "9e0a9932-f507-4335-897a-7dad9b2cc0a1",
   "metadata": {},
   "outputs": [
    {
     "data": {
      "text/plain": [
       "Index(['spring_VV', 'summer_VV', 'canopyHeight', 'canopyClosure', 'P40', 'P80',\n",
       "       'P90', 'NDVIPhase', 'NDVIAmp', 'NDVIMean'],\n",
       "      dtype='object')"
      ]
     },
     "execution_count": 35,
     "metadata": {},
     "output_type": "execute_result"
    }
   ],
   "source": [
    "#SelectKBest\n",
    "selector = SelectKBest(mutual_info_regression)\n",
    "selector.fit(x_test, y_test)\n",
    "x_test.columns[selector.get_support()]"
   ]
  },
  {
   "cell_type": "code",
   "execution_count": 36,
   "id": "df5640eb-41b3-4bdf-8f6b-f02a7c4acf24",
   "metadata": {},
   "outputs": [],
   "source": [
    "#RFE\n",
    "rfe = RFE(estimator = RF)\n",
    "_ = rfe.fit(x_train,y_train)\n",
    "\n"
   ]
  },
  {
   "cell_type": "code",
   "execution_count": 37,
   "id": "6f4a1e47-e761-4677-bb33-bedfd5f18359",
   "metadata": {},
   "outputs": [
    {
     "data": {
      "text/plain": [
       "Index(['SWAVE_HH', 'SWAVE_HV', 'SWAVE_HVHH', 'spring_VV', 'summer_VV',\n",
       "       'fall_VV', 'Red', 'MSAVI2', 'P80', 'P90', 'NDVIPhase', 'NDVIAmp',\n",
       "       'NDVIMean'],\n",
       "      dtype='object')"
      ]
     },
     "execution_count": 37,
     "metadata": {},
     "output_type": "execute_result"
    }
   ],
   "source": [
    "x_train.columns[rfe.support_]"
   ]
  },
  {
   "cell_type": "code",
   "execution_count": 650,
   "id": "3a302fa9-d66c-446d-b11b-f1b61b52a1cb",
   "metadata": {},
   "outputs": [
    {
     "name": "stderr",
     "output_type": "stream",
     "text": [
      "C:\\Users\\Nicho\\miniconda3\\envs\\geom2005\\lib\\site-packages\\geopandas\\geodataframe.py:577: RuntimeWarning: Sequential read of iterator was interrupted. Resetting iterator. This can negatively impact the performance.\n",
      "  for feature in features_lst:\n"
     ]
    }
   ],
   "source": [
    "df2 = gpd.read_file('C:\\\\Users\\\\Nicho\\\\Documents\\\\Masters_Analyis\\\\TrainingData\\\\TrainingData20220908_DanDucksV6_CVFolds.csv')"
   ]
  },
  {
   "cell_type": "code",
   "execution_count": 624,
   "id": "66f8f778-5715-47f4-9ee3-597456557189",
   "metadata": {},
   "outputs": [],
   "source": [
    "ColumnTitles = ['SWAVE_HH', 'SWAVE_HV', 'SWAVE_HVHH', 'SWAVE_RFDI', 'spring_VV', 'summer_VV', 'fall_VV', 'B1', 'B2', 'B3', 'B4', 'B5', 'B7', 'EVI', 'SAVI', 'SATVI', 'MSAVI2', 'blackSpruce', 'canopyHeight', 'canopyClosure', 'slope', 'slope42309', 'elevation', 'bio2', 'bio4', 'ecozone', 'P10', 'P40', 'P80', 'P90', 'NDVIPhase', 'NDVIAmp', 'NDVIMean','PeatlandTy','Folds']\n",
    "df = df.reindex(columns = ColumnTitles)"
   ]
  },
  {
   "cell_type": "code",
   "execution_count": 625,
   "id": "61f571f7-0b58-4e5d-a4be-69dc81fcd5c7",
   "metadata": {},
   "outputs": [
    {
     "data": {
      "text/plain": [
       "Index(['SWAVE_HH', 'SWAVE_HV', 'SWAVE_HVHH', 'SWAVE_RFDI', 'spring_VV',\n",
       "       'summer_VV', 'fall_VV', 'B1', 'B2', 'B3', 'B4', 'B5', 'B7', 'EVI',\n",
       "       'SAVI', 'SATVI', 'MSAVI2', 'blackSpruce', 'canopyHeight',\n",
       "       'canopyClosure', 'slope', 'slope42309', 'elevation', 'bio2', 'bio4',\n",
       "       'ecozone', 'P10', 'P40', 'P80', 'P90', 'NDVIPhase', 'NDVIAmp',\n",
       "       'NDVIMean', 'PeatlandTy', 'Folds'],\n",
       "      dtype='object')"
      ]
     },
     "execution_count": 625,
     "metadata": {},
     "output_type": "execute_result"
    }
   ],
   "source": [
    "df.columns"
   ]
  },
  {
   "cell_type": "code",
   "execution_count": 603,
   "id": "16534f64-ed13-434c-a112-82e1f3f63eec",
   "metadata": {},
   "outputs": [
    {
     "data": {
      "text/plain": [
       "0         B\n",
       "1         B\n",
       "2         B\n",
       "3         B\n",
       "4         B\n",
       "         ..\n",
       "16514    WA\n",
       "16515    WA\n",
       "16516    WA\n",
       "16517    WA\n",
       "16518    WA\n",
       "Name: PeatlandTy, Length: 16519, dtype: object"
      ]
     },
     "execution_count": 603,
     "metadata": {},
     "output_type": "execute_result"
    }
   ],
   "source": [
    "df['PeatlandTy']"
   ]
  },
  {
   "cell_type": "code",
   "execution_count": null,
   "id": "3b77a2de-e40c-49e3-ba20-7d850f06978a",
   "metadata": {},
   "outputs": [],
   "source": []
  },
  {
   "cell_type": "code",
   "execution_count": 626,
   "id": "62190d7e-b403-4233-a39b-dca0c10727ea",
   "metadata": {},
   "outputs": [],
   "source": [
    "#Create class dictionary\n",
    "#Assigning classes numerical values based on dictionary\n",
    "df['PeatlandTy'] = df['PeatlandTy'].map(Class_Dictionary)"
   ]
  },
  {
   "cell_type": "code",
   "execution_count": 627,
   "id": "c620add9-e116-44aa-bf63-b6ba68ab3e75",
   "metadata": {},
   "outputs": [],
   "source": [
    "df['PeatlandTy'] = df['PeatlandTy'].replace([5,11,17],-1)\n",
    "\n",
    "\n",
    "#df = df[df['PeatlandTy'].isin([0,12,6,3,9,15,1,7,13,2,8,14,-1])] \n",
    "#df['PeatlandTy'] = df['PeatlandTy'].replace([0,12,6,3,9,15,1,7,13,2,8,14],[1,1,1,2,2,2,3,3,3,4,4,4])\n",
    "#df = df.query(\"PeatlandTy != [10,16,20,-1]\")\n",
    "\n",
    "\n",
    "#Reclass so that peatlands = 1 and mineral wetlands = 2.  Stage 2\n",
    "df['PeatlandTy'] = df['PeatlandTy'].replace([-1,0,1,2,3,6,7,8,9,12,13,14,15],1)\n",
    "df['PeatlandTy'] = df['PeatlandTy'].replace([18,19],2)\n",
    "df = df.query(\"PeatlandTy != [10,16,4,20]\")\n",
    "\n",
    "#df['PeatlandTy'] = df['PeatlandTy'].replace([-1,0,1,2,3,6,7,8,9,12,13,14,15,18,19],1)\n",
    "#df['PeatlandTy'] = df['PeatlandTy'].replace([4,10,16],2)\n",
    "#df['PeatlandTy'] = df['PeatlandTy'].replace([20],3)\n",
    "\n",
    "\n",
    "\n",
    "df = df.dropna()"
   ]
  },
  {
   "cell_type": "code",
   "execution_count": 628,
   "id": "e48a6314-59ea-4d96-8215-e89460d6c81d",
   "metadata": {},
   "outputs": [
    {
     "data": {
      "text/plain": [
       "1.0    3491\n",
       "2.0     994\n",
       "Name: PeatlandTy, dtype: int64"
      ]
     },
     "execution_count": 628,
     "metadata": {},
     "output_type": "execute_result"
    }
   ],
   "source": [
    "df['PeatlandTy'].value_counts()"
   ]
  },
  {
   "cell_type": "code",
   "execution_count": 629,
   "id": "58556e67-12d7-44c4-826b-9c0f62053cf7",
   "metadata": {},
   "outputs": [],
   "source": [
    "\n",
    "X = df.drop(columns = ['PeatlandTy','elevation','slope','slope42309','bio2', 'bio4', 'ecozone','blackSpruce'])\n",
    "y = df['PeatlandTy']"
   ]
  },
  {
   "cell_type": "code",
   "execution_count": 630,
   "id": "cbbc264c-049b-4d99-82a8-dff160d39dcb",
   "metadata": {},
   "outputs": [],
   "source": [
    "folds = df['Folds']"
   ]
  },
  {
   "cell_type": "code",
   "execution_count": 611,
   "id": "0273a2ef-8030-47bb-ac1a-0271ee6e5b77",
   "metadata": {},
   "outputs": [
    {
     "data": {
      "text/plain": [
       "Index(['SWAVE_HH', 'SWAVE_HV', 'SWAVE_HVHH', 'SWAVE_RFDI', 'B1', 'B2', 'B3',\n",
       "       'B4', 'B5', 'B7', 'EVI', 'SAVI', 'SATVI', 'MSAVI2', 'canopyHeight',\n",
       "       'canopyClosure', 'P10', 'P40', 'P80', 'P90', 'NDVIPhase', 'NDVIAmp',\n",
       "       'NDVIMean', 'Folds'],\n",
       "      dtype='object')"
      ]
     },
     "execution_count": 611,
     "metadata": {},
     "output_type": "execute_result"
    }
   ],
   "source": [
    "X.columns"
   ]
  },
  {
   "cell_type": "code",
   "execution_count": 523,
   "id": "787ff4b9-e818-4804-ae1d-f49872d7d9cc",
   "metadata": {},
   "outputs": [
    {
     "data": {
      "text/plain": [
       "array([10, 10, 10, ...,  7,  7,  2], dtype=int64)"
      ]
     },
     "execution_count": 523,
     "metadata": {},
     "output_type": "execute_result"
    }
   ],
   "source": [
    "folds.values"
   ]
  },
  {
   "cell_type": "code",
   "execution_count": 589,
   "id": "53ec5cd5-a728-42e6-bf85-402d6e97df55",
   "metadata": {},
   "outputs": [],
   "source": [
    "skcv = spacv.SKCV(n_splits=4, buffer_radius=100).split(XYs)"
   ]
  },
  {
   "cell_type": "code",
   "execution_count": 577,
   "id": "788b42da-ec0b-4080-b04f-f3b3214619f0",
   "metadata": {},
   "outputs": [],
   "source": [
    "from sklearn.model_selection import GroupShuffleSplit"
   ]
  },
  {
   "cell_type": "code",
   "execution_count": 633,
   "id": "1a8ba728-fff8-4e82-8bf6-9c9b3f27c79a",
   "metadata": {},
   "outputs": [],
   "source": [
    "cv = GroupShuffleSplit(n_splits = 10, test_size = 0.3, random_state = 6).split(X,y,folds)"
   ]
  },
  {
   "cell_type": "code",
   "execution_count": 613,
   "id": "534d4bb2-1e4a-491a-8744-53dce7aad7f9",
   "metadata": {},
   "outputs": [],
   "source": [
    "scores = cross_val_score(RF,\n",
    "                         X,\n",
    "                         y,\n",
    "                         cv =10)"
   ]
  },
  {
   "cell_type": "code",
   "execution_count": 634,
   "id": "d61e48ae-09d0-4637-a9a5-79b02a7a7f36",
   "metadata": {},
   "outputs": [],
   "source": [
    "scores = cross_val_score(RF,       # Model \n",
    "                X,         # Features\n",
    "                y,         # Labels\n",
    "                cv =cv ) # Fold indices"
   ]
  },
  {
   "cell_type": "code",
   "execution_count": 635,
   "id": "d935262e-1282-4242-82bd-fef7fd25d366",
   "metadata": {},
   "outputs": [
    {
     "name": "stdout",
     "output_type": "stream",
     "text": [
      "0.930 accuracy with a standard deviation of 0.014\n"
     ]
    }
   ],
   "source": [
    "print(\"%0.3f accuracy with a standard deviation of %0.3f\" % (scores.mean(), scores.std()))"
   ]
  },
  {
   "cell_type": "code",
   "execution_count": 318,
   "id": "234ec917-cf92-4147-88aa-64ab281bb3b3",
   "metadata": {},
   "outputs": [],
   "source": [
    "from sklearn.datasets import make_blobs\n",
    "from sklearn.model_selection import LeaveOneOut\n",
    "from sklearn.model_selection import KFold"
   ]
  },
  {
   "cell_type": "code",
   "execution_count": 323,
   "id": "155b2f1b-3083-4a0c-85fe-a3db4e71c0fc",
   "metadata": {},
   "outputs": [
    {
     "data": {
      "text/plain": [
       "892"
      ]
     },
     "execution_count": 323,
     "metadata": {},
     "output_type": "execute_result"
    }
   ],
   "source": [
    "loo = LeaveOneOut()\n",
    "loo.get_n_splits(x_train)"
   ]
  },
  {
   "cell_type": "code",
   "execution_count": 343,
   "id": "cfb8555d-9a6d-48ea-8209-a4aa054af6a7",
   "metadata": {},
   "outputs": [],
   "source": [
    "y_true, y_pred = list(), list()"
   ]
  },
  {
   "cell_type": "code",
   "execution_count": 351,
   "id": "5771d2a3-d6b6-4aa1-93ec-00f6bf917775",
   "metadata": {},
   "outputs": [
    {
     "name": "stdout",
     "output_type": "stream",
     "text": [
      "[1 2 3] [0]\n",
      "[0 2 3] [1]\n",
      "[0 1 3] [2]\n",
      "[0 1 2] [3]\n"
     ]
    }
   ],
   "source": [
    "X = [1,2,3,4]\n",
    "loo = LeaveOneOut()\n",
    "for train, test in loo.split(X):\n",
    "    print"
   ]
  },
  {
   "cell_type": "code",
   "execution_count": 321,
   "id": "aba4a107-2c3b-46be-ae1c-5e82f025fdb8",
   "metadata": {},
   "outputs": [],
   "source": [
    "kf = KFold()"
   ]
  },
  {
   "cell_type": "code",
   "execution_count": 244,
   "id": "7d4ddc1a-533f-42df-b161-da618a491faa",
   "metadata": {},
   "outputs": [
    {
     "name": "stderr",
     "output_type": "stream",
     "text": [
      "C:\\Users\\Nicho\\miniconda3\\envs\\geom2005\\lib\\site-packages\\sklearn\\base.py:443: UserWarning: X has feature names, but SelfTrainingClassifier was fitted without feature names\n",
      "  warnings.warn(\n"
     ]
    }
   ],
   "source": [
    "Results = STM.predict(x_test)"
   ]
  },
  {
   "cell_type": "code",
   "execution_count": 673,
   "id": "20e9a7d2-aa26-4656-af6d-795bba5a41dc",
   "metadata": {},
   "outputs": [
    {
     "ename": "ModuleNotFoundError",
     "evalue": "No module named 'seaborne'",
     "output_type": "error",
     "traceback": [
      "\u001b[1;31m---------------------------------------------------------------------------\u001b[0m",
      "\u001b[1;31mModuleNotFoundError\u001b[0m                       Traceback (most recent call last)",
      "\u001b[1;32m~\\AppData\\Local\\Temp/ipykernel_97476/3244086289.py\u001b[0m in \u001b[0;36m<module>\u001b[1;34m\u001b[0m\n\u001b[1;32m----> 1\u001b[1;33m \u001b[1;32mimport\u001b[0m \u001b[0mseaborne\u001b[0m \u001b[1;32mas\u001b[0m \u001b[0msns\u001b[0m\u001b[1;33m\u001b[0m\u001b[1;33m\u001b[0m\u001b[0m\n\u001b[0m",
      "\u001b[1;31mModuleNotFoundError\u001b[0m: No module named 'seaborne'"
     ]
    }
   ],
   "source": [
    "import seaborne as sns"
   ]
  },
  {
   "cell_type": "code",
   "execution_count": 21,
   "id": "140ba39b-956b-434f-a6f3-fe39d3837703",
   "metadata": {},
   "outputs": [
    {
     "data": {
      "text/plain": [
       "<sklearn.metrics._plot.confusion_matrix.ConfusionMatrixDisplay at 0x1d67a2225e0>"
      ]
     },
     "execution_count": 21,
     "metadata": {},
     "output_type": "execute_result"
    },
    {
     "data": {
      "image/png": "[encoded data removed]",
      "text/plain": [
       "<Figure size 720x720 with 2 Axes>"
      ]
     },
     "metadata": {
      "needs_background": "light"
     },
     "output_type": "display_data"
    }
   ],
   "source": [
    "cm = confusion_matrix(y_test, Results, labels=RF.classes_)\n",
    "disp = ConfusionMatrixDisplay(confusion_matrix = cm, display_labels = ['Bog','Rich Fen','Poor Fen', 'PPC'])\n",
    "ax = plt.subplot()\n",
    "ax.tick_params(axis='both',  labelsize = 15)\n",
    "ax.set_ylabel(\"True Label\", fontsize = 20)\n",
    "ax.set_xlabel(\"Predicted Label\", fontsize = 20)\n",
    "disp.plot(ax = ax)\n"
   ]
  },
  {
   "cell_type": "code",
   "execution_count": null,
   "id": "dc3a6657-c390-4db4-a508-e69095511ffb",
   "metadata": {},
   "outputs": [],
   "source": []
  },
  {
   "cell_type": "code",
   "execution_count": 89,
   "id": "6673f7bc-0635-41f7-a37a-dd5e99716978",
   "metadata": {},
   "outputs": [
    {
     "name": "stdout",
     "output_type": "stream",
     "text": [
      "Elapsed time to compute the importances: 31.036 seconds\n"
     ]
    }
   ],
   "source": [
    "from sklearn.inspection import permutation_importance\n",
    "\n",
    "start_time = time.time()\n",
    "result = permutation_importance(\n",
    "    RF, x_test, y_test, n_repeats=10, random_state=42, n_jobs=2\n",
    ")\n",
    "elapsed_time = time.time() - start_time\n",
    "print(f\"Elapsed time to compute the importances: {elapsed_time:.3f} seconds\")\n",
    "\n",
    "forest_importances = pd.Series(result.importances_mean, index = list(trainingDataXD.columns))"
   ]
  },
  {
   "cell_type": "code",
   "execution_count": 90,
   "id": "67081f44-129c-4686-845f-c2c8fcc90ae4",
   "metadata": {},
   "outputs": [
    {
     "data": {
      "image/png": "[encoded data removed]",
      "text/plain": [
       "<Figure size 720x720 with 1 Axes>"
      ]
     },
     "metadata": {
      "needs_background": "light"
     },
     "output_type": "display_data"
    }
   ],
   "source": [
    "fig, ax = plt.subplots()\n",
    "forest_importances.plot.bar(yerr=result.importances_std, ax=ax)\n",
    "ax.set_ylabel(\"Mean accuracy decrease\", fontsize = 20)\n",
    "ax.tick_params(axis='both',  labelsize = 15)\n",
    "ax.set_xlabel(\"Predictor\", fontsize = 20)\n",
    "fig.tight_layout()\n",
    "plt.show()"
   ]
  },
  {
   "cell_type": "code",
   "execution_count": 64,
   "id": "ac330815-7196-4d22-8eea-19cb39755fd8",
   "metadata": {},
   "outputs": [],
   "source": [
    "# Get the tif image and convert it to a raster -  we will use the rasterio package here which requires some reshaping of the image\n",
    "img = rasterio.open('E:\\\\Thesis\\\\Permafrost\\\\Tiles\\\\PermafrostTest\\\\PermaFrostTestTileID2853.tif')\n",
    "\n",
    "# Get the transform and crs from the image to use when exporting the image\n",
    "transform = img.transform\n",
    "crs = img.crs\n",
    "\n",
    "# Read the actual image info and reshape \n",
    "temp_info = reshape_as_image(img.read())\n",
    "\n",
    "new_shape = (temp_info.shape[0] * temp_info.shape[1], temp_info.shape[2])\n",
    "temp_as_array = temp_info[:, :, :].reshape(new_shape)\n",
    "\n",
    "#Impute missing values to 9999 (It's water that will be masked, so it doesn't matter)\n",
    "imp_mean = SimpleImputer(missing_values = np.nan, strategy ='constant', fill_value = 9999)\n",
    "imp_mean.fit(temp_as_array)\n",
    "\n",
    "temp_as_array = imp_mean.transform(temp_as_array)"
   ]
  },
  {
   "cell_type": "code",
   "execution_count": 65,
   "id": "a4413d15-21c4-461d-95fb-1b01fa5b5a56",
   "metadata": {},
   "outputs": [
    {
     "name": "stdout",
     "output_type": "stream",
     "text": [
      "Raster description: ('SWAVE_HH', 'SWAVE_HV', 'SWAVE_HVHH', 'SWAVE_RFDI', 'spring_VV', 'summer_VV', 'fall_VV', 'B1', 'B2', 'B3', 'B4', 'B5', 'B7', 'EVI', 'SAVI', 'SATVI', 'MSAVI2', 'blackSpruce', 'canopyHeight', 'canopyClosure', 'slope', 'slope42309', 'elevation', 'bio2', 'bio4', 'ecozone', 'P10', 'P40', 'P80', 'P90', 'NDVIPhase', 'NDVIAmp', 'NDVIMean', 'spring_VV_amp', 'fall_VV_amp', 'PF_prob')\n",
      "\n"
     ]
    }
   ],
   "source": [
    "desc = img.descriptions\n",
    "print('Raster description: {desc}\\n'.format(desc=desc))\n",
    "names = list(desc)\n"
   ]
  },
  {
   "cell_type": "code",
   "execution_count": 68,
   "id": "fae40d67-6083-409e-afd3-65eb11d6700d",
   "metadata": {},
   "outputs": [],
   "source": [
    "#Drop bands for testing. Make sure they match the bands you dropped from the training data.\n",
    "temp_as_array = pd.DataFrame(temp_as_array)\n",
    "temp_as_array.columns = names\n",
    "\n",
    "#Stage 1\n",
    "#temp_as_array = temp_as_array[['SWAVE_HH', 'SWAVE_HV', 'B4', 'B5', 'B7', 'SATVI', 'MSAVI2', 'P10',\n",
    "#       'NDVIPhase', 'NDVIAmp']]\n",
    "\n",
    "\n",
    "#Stage 2\n",
    "temp_as_array = temp_as_array[['SWAVE_HH', 'SWAVE_HV', 'SWAVE_HVHH', 'spring_VV', 'summer_VV',\n",
    "       'fall_VV', 'B4', 'MSAVI2', 'P80', 'P90', 'NDVIPhase', 'NDVIAmp',\n",
    "       'NDVIMean']]\n",
    "\n",
    "temp_as_array = temp_as_array.to_numpy()"
   ]
  },
  {
   "cell_type": "code",
   "execution_count": 69,
   "id": "75a09e83-eac9-46cd-aaef-32ab3123e642",
   "metadata": {},
   "outputs": [
    {
     "name": "stderr",
     "output_type": "stream",
     "text": [
      "C:\\Users\\Nicho\\miniconda3\\envs\\geom2005\\lib\\site-packages\\sklearn\\base.py:450: UserWarning: X does not have valid feature names, but RandomForestClassifier was fitted with feature names\n",
      "  warnings.warn(\n"
     ]
    },
    {
     "name": "stdout",
     "output_type": "stream",
     "text": [
      "Classification finished in 62.37815880775452 seconds\n",
      "\n"
     ]
    },
    {
     "data": {
      "text/plain": [
       "array([[1, 1, 1, ..., 1, 1, 1],\n",
       "       [1, 1, 2, ..., 1, 1, 1],\n",
       "       [2, 1, 1, ..., 1, 1, 1],\n",
       "       ...,\n",
       "       [1, 1, 1, ..., 1, 1, 1],\n",
       "       [1, 1, 1, ..., 1, 1, 1],\n",
       "       [1, 1, 1, ..., 1, 1, 1]])"
      ]
     },
     "execution_count": 69,
     "metadata": {},
     "output_type": "execute_result"
    }
   ],
   "source": [
    "# Use the random forest classifier to classify the image\n",
    "# and measure the time it takes\n",
    "startTime = time.time()\n",
    "\n",
    "classified_image = RF.predict(temp_as_array)\n",
    "print('Classification finished in ' + str(time.time() - startTime) + ' seconds\\n')\n",
    "\n",
    "# Reshape the classified image back into a 2D image (with only a single band)\n",
    "classified_image_new = classified_image.reshape(temp_info[:, :, 1].shape)\n",
    "\n",
    "# Set the data type of the image\n",
    "classified_image_new = classified_image_new.astype('int32')\n",
    "\n",
    "classified_image_new"
   ]
  },
  {
   "cell_type": "code",
   "execution_count": 70,
   "id": "ae1c1088-040f-4da4-b296-3702cfe3a8be",
   "metadata": {},
   "outputs": [],
   "source": [
    "import matplotlib"
   ]
  },
  {
   "cell_type": "code",
   "execution_count": 71,
   "id": "ee252da8-57b9-43e3-8bc9-9ad77123c7d9",
   "metadata": {},
   "outputs": [
    {
     "data": {
      "text/plain": [
       "<matplotlib.image.AxesImage at 0x246d6101f40>"
      ]
     },
     "execution_count": 71,
     "metadata": {},
     "output_type": "execute_result"
    },
    {
     "data": {
      "image/png": "[encoded data removed]",
      "text/plain": [
       "<Figure size 720x720 with 1 Axes>"
      ]
     },
     "metadata": {
      "needs_background": "light"
     },
     "output_type": "display_data"
    }
   ],
   "source": [
    "matplotlib.pyplot.imshow(classified_image_new)"
   ]
  },
  {
   "cell_type": "code",
   "execution_count": 68,
   "id": "e0be3056-acab-46a0-bd27-648c1c57a26b",
   "metadata": {},
   "outputs": [],
   "source": [
    "with rasterio.open(\n",
    "            \"Variableslectiontest.tif\",\n",
    "              'w',\n",
    "            driver = 'GTiff',\n",
    "            height = classified_image_new.shape[0],\n",
    "            width = classified_image_new.shape[1],\n",
    "            count = 1,\n",
    "            dtype = classified_image_new.dtype,\n",
    "            crs = crs,\n",
    "            transform = transform,\n",
    "        ) as dst:\n",
    "            dst.write(classified_image_new, 1)\n",
    "            dst.close()"
   ]
  },
  {
   "cell_type": "code",
   "execution_count": null,
   "id": "c4fcd1c7-35c8-4862-a902-1bb1f1109cf1",
   "metadata": {},
   "outputs": [],
   "source": [
    "TileDF = pd.read_csv('E:\\\\Thesis\\\\QuebecTest\\\\MansuyTiles.csv')\n",
    "TileList = TileDF['TileID'].tolist()\n",
    "TileList = [x + \".tif\" for x in TileList]\n"
   ]
  },
  {
   "cell_type": "code",
   "execution_count": null,
   "id": "2a5bfd13-cdef-49c3-b61f-3122170264ab",
   "metadata": {},
   "outputs": [],
   "source": [
    "TestString = os.listdir(\"C:\\\\Users\\\\Lion\\\\NickPontone\\\\QuebecTileFolder\")[0]"
   ]
  },
  {
   "cell_type": "code",
   "execution_count": null,
   "id": "839f9e8a-a2a8-436e-8792-818c58c78011",
   "metadata": {},
   "outputs": [],
   "source": [
    "TestString.partition('y')[2]"
   ]
  },
  {
   "cell_type": "code",
   "execution_count": 74,
   "id": "0a4a7a87-5c88-4936-807c-971beca9900d",
   "metadata": {},
   "outputs": [
    {
     "name": "stderr",
     "output_type": "stream",
     "text": [
      "C:\\Users\\Nicho\\miniconda3\\envs\\geom2005\\lib\\site-packages\\sklearn\\base.py:450: UserWarning: X does not have valid feature names, but RandomForestClassifier was fitted with feature names\n",
      "  warnings.warn(\n"
     ]
    },
    {
     "name": "stdout",
     "output_type": "stream",
     "text": [
      "Classification finished in 4.152425527572632 seconds\n",
      "\n"
     ]
    },
    {
     "name": "stderr",
     "output_type": "stream",
     "text": [
      "C:\\Users\\Nicho\\miniconda3\\envs\\geom2005\\lib\\site-packages\\sklearn\\base.py:450: UserWarning: X does not have valid feature names, but RandomForestClassifier was fitted with feature names\n",
      "  warnings.warn(\n"
     ]
    },
    {
     "name": "stdout",
     "output_type": "stream",
     "text": [
      "Classification finished in 2.9360034465789795 seconds\n",
      "\n"
     ]
    },
    {
     "name": "stderr",
     "output_type": "stream",
     "text": [
      "C:\\Users\\Nicho\\miniconda3\\envs\\geom2005\\lib\\site-packages\\sklearn\\base.py:450: UserWarning: X does not have valid feature names, but RandomForestClassifier was fitted with feature names\n",
      "  warnings.warn(\n"
     ]
    },
    {
     "name": "stdout",
     "output_type": "stream",
     "text": [
      "Classification finished in 1.2221848964691162 seconds\n",
      "\n"
     ]
    },
    {
     "name": "stderr",
     "output_type": "stream",
     "text": [
      "C:\\Users\\Nicho\\miniconda3\\envs\\geom2005\\lib\\site-packages\\sklearn\\base.py:450: UserWarning: X does not have valid feature names, but RandomForestClassifier was fitted with feature names\n",
      "  warnings.warn(\n"
     ]
    },
    {
     "name": "stdout",
     "output_type": "stream",
     "text": [
      "Classification finished in 0.2922654151916504 seconds\n",
      "\n"
     ]
    },
    {
     "name": "stderr",
     "output_type": "stream",
     "text": [
      "C:\\Users\\Nicho\\miniconda3\\envs\\geom2005\\lib\\site-packages\\sklearn\\base.py:450: UserWarning: X does not have valid feature names, but RandomForestClassifier was fitted with feature names\n",
      "  warnings.warn(\n"
     ]
    },
    {
     "name": "stdout",
     "output_type": "stream",
     "text": [
      "Classification finished in 0.2402195930480957 seconds\n",
      "\n"
     ]
    },
    {
     "name": "stderr",
     "output_type": "stream",
     "text": [
      "C:\\Users\\Nicho\\miniconda3\\envs\\geom2005\\lib\\site-packages\\sklearn\\base.py:450: UserWarning: X does not have valid feature names, but RandomForestClassifier was fitted with feature names\n",
      "  warnings.warn(\n"
     ]
    },
    {
     "name": "stdout",
     "output_type": "stream",
     "text": [
      "Classification finished in 64.37788224220276 seconds\n",
      "\n"
     ]
    },
    {
     "name": "stderr",
     "output_type": "stream",
     "text": [
      "C:\\Users\\Nicho\\miniconda3\\envs\\geom2005\\lib\\site-packages\\sklearn\\base.py:450: UserWarning: X does not have valid feature names, but RandomForestClassifier was fitted with feature names\n",
      "  warnings.warn(\n"
     ]
    },
    {
     "name": "stdout",
     "output_type": "stream",
     "text": [
      "Classification finished in 0.2572340965270996 seconds\n",
      "\n"
     ]
    },
    {
     "name": "stderr",
     "output_type": "stream",
     "text": [
      "C:\\Users\\Nicho\\miniconda3\\envs\\geom2005\\lib\\site-packages\\sklearn\\base.py:450: UserWarning: X does not have valid feature names, but RandomForestClassifier was fitted with feature names\n",
      "  warnings.warn(\n"
     ]
    },
    {
     "name": "stdout",
     "output_type": "stream",
     "text": [
      "Classification finished in 0.3693361282348633 seconds\n",
      "\n"
     ]
    },
    {
     "name": "stderr",
     "output_type": "stream",
     "text": [
      "C:\\Users\\Nicho\\miniconda3\\envs\\geom2005\\lib\\site-packages\\sklearn\\base.py:450: UserWarning: X does not have valid feature names, but RandomForestClassifier was fitted with feature names\n",
      "  warnings.warn(\n"
     ]
    },
    {
     "name": "stdout",
     "output_type": "stream",
     "text": [
      "Classification finished in 60.108720779418945 seconds\n",
      "\n"
     ]
    },
    {
     "name": "stderr",
     "output_type": "stream",
     "text": [
      "C:\\Users\\Nicho\\miniconda3\\envs\\geom2005\\lib\\site-packages\\sklearn\\base.py:450: UserWarning: X does not have valid feature names, but RandomForestClassifier was fitted with feature names\n",
      "  warnings.warn(\n"
     ]
    },
    {
     "name": "stdout",
     "output_type": "stream",
     "text": [
      "Classification finished in 0.23621559143066406 seconds\n",
      "\n"
     ]
    },
    {
     "name": "stderr",
     "output_type": "stream",
     "text": [
      "C:\\Users\\Nicho\\miniconda3\\envs\\geom2005\\lib\\site-packages\\sklearn\\base.py:450: UserWarning: X does not have valid feature names, but RandomForestClassifier was fitted with feature names\n",
      "  warnings.warn(\n"
     ]
    },
    {
     "name": "stdout",
     "output_type": "stream",
     "text": [
      "Classification finished in 0.2792549133300781 seconds\n",
      "\n"
     ]
    },
    {
     "name": "stderr",
     "output_type": "stream",
     "text": [
      "C:\\Users\\Nicho\\miniconda3\\envs\\geom2005\\lib\\site-packages\\sklearn\\base.py:450: UserWarning: X does not have valid feature names, but RandomForestClassifier was fitted with feature names\n",
      "  warnings.warn(\n"
     ]
    },
    {
     "name": "stdout",
     "output_type": "stream",
     "text": [
      "Classification finished in 63.445091009140015 seconds\n",
      "\n"
     ]
    },
    {
     "name": "stderr",
     "output_type": "stream",
     "text": [
      "C:\\Users\\Nicho\\miniconda3\\envs\\geom2005\\lib\\site-packages\\sklearn\\base.py:450: UserWarning: X does not have valid feature names, but RandomForestClassifier was fitted with feature names\n",
      "  warnings.warn(\n"
     ]
    },
    {
     "name": "stdout",
     "output_type": "stream",
     "text": [
      "Classification finished in 63.0123245716095 seconds\n",
      "\n"
     ]
    },
    {
     "name": "stderr",
     "output_type": "stream",
     "text": [
      "C:\\Users\\Nicho\\miniconda3\\envs\\geom2005\\lib\\site-packages\\sklearn\\base.py:450: UserWarning: X does not have valid feature names, but RandomForestClassifier was fitted with feature names\n",
      "  warnings.warn(\n"
     ]
    },
    {
     "name": "stdout",
     "output_type": "stream",
     "text": [
      "Classification finished in 62.345942974090576 seconds\n",
      "\n"
     ]
    },
    {
     "name": "stderr",
     "output_type": "stream",
     "text": [
      "C:\\Users\\Nicho\\miniconda3\\envs\\geom2005\\lib\\site-packages\\sklearn\\base.py:450: UserWarning: X does not have valid feature names, but RandomForestClassifier was fitted with feature names\n",
      "  warnings.warn(\n"
     ]
    },
    {
     "name": "stdout",
     "output_type": "stream",
     "text": [
      "Classification finished in 0.24222064018249512 seconds\n",
      "\n"
     ]
    },
    {
     "name": "stderr",
     "output_type": "stream",
     "text": [
      "C:\\Users\\Nicho\\miniconda3\\envs\\geom2005\\lib\\site-packages\\sklearn\\base.py:450: UserWarning: X does not have valid feature names, but RandomForestClassifier was fitted with feature names\n",
      "  warnings.warn(\n"
     ]
    },
    {
     "name": "stdout",
     "output_type": "stream",
     "text": [
      "Classification finished in 0.7326653003692627 seconds\n",
      "\n"
     ]
    },
    {
     "name": "stderr",
     "output_type": "stream",
     "text": [
      "C:\\Users\\Nicho\\miniconda3\\envs\\geom2005\\lib\\site-packages\\sklearn\\base.py:450: UserWarning: X does not have valid feature names, but RandomForestClassifier was fitted with feature names\n",
      "  warnings.warn(\n"
     ]
    },
    {
     "name": "stdout",
     "output_type": "stream",
     "text": [
      "Classification finished in 0.28626132011413574 seconds\n",
      "\n"
     ]
    },
    {
     "name": "stderr",
     "output_type": "stream",
     "text": [
      "C:\\Users\\Nicho\\miniconda3\\envs\\geom2005\\lib\\site-packages\\sklearn\\base.py:450: UserWarning: X does not have valid feature names, but RandomForestClassifier was fitted with feature names\n",
      "  warnings.warn(\n"
     ]
    },
    {
     "name": "stdout",
     "output_type": "stream",
     "text": [
      "Classification finished in 0.35031843185424805 seconds\n",
      "\n"
     ]
    },
    {
     "name": "stderr",
     "output_type": "stream",
     "text": [
      "C:\\Users\\Nicho\\miniconda3\\envs\\geom2005\\lib\\site-packages\\sklearn\\base.py:450: UserWarning: X does not have valid feature names, but RandomForestClassifier was fitted with feature names\n",
      "  warnings.warn(\n"
     ]
    },
    {
     "name": "stdout",
     "output_type": "stream",
     "text": [
      "Classification finished in 0.30205845832824707 seconds\n",
      "\n"
     ]
    },
    {
     "name": "stderr",
     "output_type": "stream",
     "text": [
      "C:\\Users\\Nicho\\miniconda3\\envs\\geom2005\\lib\\site-packages\\sklearn\\base.py:450: UserWarning: X does not have valid feature names, but RandomForestClassifier was fitted with feature names\n",
      "  warnings.warn(\n"
     ]
    },
    {
     "name": "stdout",
     "output_type": "stream",
     "text": [
      "Classification finished in 63.446181297302246 seconds\n",
      "\n"
     ]
    },
    {
     "name": "stderr",
     "output_type": "stream",
     "text": [
      "C:\\Users\\Nicho\\miniconda3\\envs\\geom2005\\lib\\site-packages\\sklearn\\base.py:450: UserWarning: X does not have valid feature names, but RandomForestClassifier was fitted with feature names\n",
      "  warnings.warn(\n"
     ]
    },
    {
     "name": "stdout",
     "output_type": "stream",
     "text": [
      "Classification finished in 72.38778162002563 seconds\n",
      "\n"
     ]
    },
    {
     "name": "stderr",
     "output_type": "stream",
     "text": [
      "C:\\Users\\Nicho\\miniconda3\\envs\\geom2005\\lib\\site-packages\\sklearn\\base.py:450: UserWarning: X does not have valid feature names, but RandomForestClassifier was fitted with feature names\n",
      "  warnings.warn(\n"
     ]
    },
    {
     "name": "stdout",
     "output_type": "stream",
     "text": [
      "Classification finished in 0.2472231388092041 seconds\n",
      "\n"
     ]
    },
    {
     "name": "stderr",
     "output_type": "stream",
     "text": [
      "C:\\Users\\Nicho\\miniconda3\\envs\\geom2005\\lib\\site-packages\\sklearn\\base.py:450: UserWarning: X does not have valid feature names, but RandomForestClassifier was fitted with feature names\n",
      "  warnings.warn(\n"
     ]
    },
    {
     "name": "stdout",
     "output_type": "stream",
     "text": [
      "Classification finished in 0.2572333812713623 seconds\n",
      "\n"
     ]
    },
    {
     "name": "stderr",
     "output_type": "stream",
     "text": [
      "C:\\Users\\Nicho\\miniconda3\\envs\\geom2005\\lib\\site-packages\\sklearn\\base.py:450: UserWarning: X does not have valid feature names, but RandomForestClassifier was fitted with feature names\n",
      "  warnings.warn(\n"
     ]
    },
    {
     "name": "stdout",
     "output_type": "stream",
     "text": [
      "Classification finished in 72.17014288902283 seconds\n",
      "\n"
     ]
    },
    {
     "name": "stderr",
     "output_type": "stream",
     "text": [
      "C:\\Users\\Nicho\\miniconda3\\envs\\geom2005\\lib\\site-packages\\sklearn\\base.py:450: UserWarning: X does not have valid feature names, but RandomForestClassifier was fitted with feature names\n",
      "  warnings.warn(\n"
     ]
    },
    {
     "name": "stdout",
     "output_type": "stream",
     "text": [
      "Classification finished in 74.97005462646484 seconds\n",
      "\n"
     ]
    },
    {
     "name": "stderr",
     "output_type": "stream",
     "text": [
      "C:\\Users\\Nicho\\miniconda3\\envs\\geom2005\\lib\\site-packages\\sklearn\\base.py:450: UserWarning: X does not have valid feature names, but RandomForestClassifier was fitted with feature names\n",
      "  warnings.warn(\n"
     ]
    },
    {
     "name": "stdout",
     "output_type": "stream",
     "text": [
      "Classification finished in 0.533484697341919 seconds\n",
      "\n"
     ]
    },
    {
     "name": "stderr",
     "output_type": "stream",
     "text": [
      "C:\\Users\\Nicho\\miniconda3\\envs\\geom2005\\lib\\site-packages\\sklearn\\base.py:450: UserWarning: X does not have valid feature names, but RandomForestClassifier was fitted with feature names\n",
      "  warnings.warn(\n"
     ]
    },
    {
     "name": "stdout",
     "output_type": "stream",
     "text": [
      "Classification finished in 0.3413090705871582 seconds\n",
      "\n"
     ]
    },
    {
     "name": "stderr",
     "output_type": "stream",
     "text": [
      "C:\\Users\\Nicho\\miniconda3\\envs\\geom2005\\lib\\site-packages\\sklearn\\base.py:450: UserWarning: X does not have valid feature names, but RandomForestClassifier was fitted with feature names\n",
      "  warnings.warn(\n"
     ]
    },
    {
     "name": "stdout",
     "output_type": "stream",
     "text": [
      "Classification finished in 67.44058084487915 seconds\n",
      "\n"
     ]
    },
    {
     "name": "stderr",
     "output_type": "stream",
     "text": [
      "C:\\Users\\Nicho\\miniconda3\\envs\\geom2005\\lib\\site-packages\\sklearn\\base.py:450: UserWarning: X does not have valid feature names, but RandomForestClassifier was fitted with feature names\n",
      "  warnings.warn(\n"
     ]
    },
    {
     "name": "stdout",
     "output_type": "stream",
     "text": [
      "Classification finished in 68.36863541603088 seconds\n",
      "\n"
     ]
    },
    {
     "name": "stderr",
     "output_type": "stream",
     "text": [
      "C:\\Users\\Nicho\\miniconda3\\envs\\geom2005\\lib\\site-packages\\sklearn\\base.py:450: UserWarning: X does not have valid feature names, but RandomForestClassifier was fitted with feature names\n",
      "  warnings.warn(\n"
     ]
    },
    {
     "name": "stdout",
     "output_type": "stream",
     "text": [
      "Classification finished in 0.2992715835571289 seconds\n",
      "\n"
     ]
    },
    {
     "name": "stderr",
     "output_type": "stream",
     "text": [
      "C:\\Users\\Nicho\\miniconda3\\envs\\geom2005\\lib\\site-packages\\sklearn\\base.py:450: UserWarning: X does not have valid feature names, but RandomForestClassifier was fitted with feature names\n",
      "  warnings.warn(\n"
     ]
    },
    {
     "name": "stdout",
     "output_type": "stream",
     "text": [
      "Classification finished in 0.25122785568237305 seconds\n",
      "\n"
     ]
    },
    {
     "name": "stderr",
     "output_type": "stream",
     "text": [
      "C:\\Users\\Nicho\\miniconda3\\envs\\geom2005\\lib\\site-packages\\sklearn\\base.py:450: UserWarning: X does not have valid feature names, but RandomForestClassifier was fitted with feature names\n",
      "  warnings.warn(\n"
     ]
    },
    {
     "name": "stdout",
     "output_type": "stream",
     "text": [
      "Classification finished in 66.82236218452454 seconds\n",
      "\n"
     ]
    },
    {
     "name": "stderr",
     "output_type": "stream",
     "text": [
      "C:\\Users\\Nicho\\miniconda3\\envs\\geom2005\\lib\\site-packages\\sklearn\\base.py:450: UserWarning: X does not have valid feature names, but RandomForestClassifier was fitted with feature names\n",
      "  warnings.warn(\n"
     ]
    },
    {
     "name": "stdout",
     "output_type": "stream",
     "text": [
      "Classification finished in 64.79079365730286 seconds\n",
      "\n"
     ]
    },
    {
     "name": "stderr",
     "output_type": "stream",
     "text": [
      "C:\\Users\\Nicho\\miniconda3\\envs\\geom2005\\lib\\site-packages\\sklearn\\base.py:450: UserWarning: X does not have valid feature names, but RandomForestClassifier was fitted with feature names\n",
      "  warnings.warn(\n"
     ]
    },
    {
     "name": "stdout",
     "output_type": "stream",
     "text": [
      "Classification finished in 66.80777359008789 seconds\n",
      "\n"
     ]
    },
    {
     "name": "stderr",
     "output_type": "stream",
     "text": [
      "C:\\Users\\Nicho\\miniconda3\\envs\\geom2005\\lib\\site-packages\\sklearn\\base.py:450: UserWarning: X does not have valid feature names, but RandomForestClassifier was fitted with feature names\n",
      "  warnings.warn(\n"
     ]
    },
    {
     "name": "stdout",
     "output_type": "stream",
     "text": [
      "Classification finished in 0.3292999267578125 seconds\n",
      "\n"
     ]
    },
    {
     "name": "stderr",
     "output_type": "stream",
     "text": [
      "C:\\Users\\Nicho\\miniconda3\\envs\\geom2005\\lib\\site-packages\\sklearn\\base.py:450: UserWarning: X does not have valid feature names, but RandomForestClassifier was fitted with feature names\n",
      "  warnings.warn(\n"
     ]
    },
    {
     "name": "stdout",
     "output_type": "stream",
     "text": [
      "Classification finished in 0.24422192573547363 seconds\n",
      "\n"
     ]
    },
    {
     "name": "stderr",
     "output_type": "stream",
     "text": [
      "C:\\Users\\Nicho\\miniconda3\\envs\\geom2005\\lib\\site-packages\\sklearn\\base.py:450: UserWarning: X does not have valid feature names, but RandomForestClassifier was fitted with feature names\n",
      "  warnings.warn(\n"
     ]
    },
    {
     "name": "stdout",
     "output_type": "stream",
     "text": [
      "Classification finished in 62.77718210220337 seconds\n",
      "\n"
     ]
    },
    {
     "name": "stderr",
     "output_type": "stream",
     "text": [
      "C:\\Users\\Nicho\\miniconda3\\envs\\geom2005\\lib\\site-packages\\sklearn\\base.py:450: UserWarning: X does not have valid feature names, but RandomForestClassifier was fitted with feature names\n",
      "  warnings.warn(\n"
     ]
    },
    {
     "name": "stdout",
     "output_type": "stream",
     "text": [
      "Classification finished in 64.80350160598755 seconds\n",
      "\n"
     ]
    },
    {
     "name": "stderr",
     "output_type": "stream",
     "text": [
      "C:\\Users\\Nicho\\miniconda3\\envs\\geom2005\\lib\\site-packages\\sklearn\\base.py:450: UserWarning: X does not have valid feature names, but RandomForestClassifier was fitted with feature names\n",
      "  warnings.warn(\n"
     ]
    },
    {
     "name": "stdout",
     "output_type": "stream",
     "text": [
      "Classification finished in 68.09500098228455 seconds\n",
      "\n"
     ]
    },
    {
     "name": "stderr",
     "output_type": "stream",
     "text": [
      "C:\\Users\\Nicho\\miniconda3\\envs\\geom2005\\lib\\site-packages\\sklearn\\base.py:450: UserWarning: X does not have valid feature names, but RandomForestClassifier was fitted with feature names\n",
      "  warnings.warn(\n"
     ]
    },
    {
     "name": "stdout",
     "output_type": "stream",
     "text": [
      "Classification finished in 0.5044584274291992 seconds\n",
      "\n"
     ]
    },
    {
     "name": "stderr",
     "output_type": "stream",
     "text": [
      "C:\\Users\\Nicho\\miniconda3\\envs\\geom2005\\lib\\site-packages\\sklearn\\base.py:450: UserWarning: X does not have valid feature names, but RandomForestClassifier was fitted with feature names\n",
      "  warnings.warn(\n"
     ]
    },
    {
     "name": "stdout",
     "output_type": "stream",
     "text": [
      "Classification finished in 1.2649874687194824 seconds\n",
      "\n"
     ]
    },
    {
     "name": "stderr",
     "output_type": "stream",
     "text": [
      "C:\\Users\\Nicho\\miniconda3\\envs\\geom2005\\lib\\site-packages\\sklearn\\base.py:450: UserWarning: X does not have valid feature names, but RandomForestClassifier was fitted with feature names\n",
      "  warnings.warn(\n"
     ]
    },
    {
     "name": "stdout",
     "output_type": "stream",
     "text": [
      "Classification finished in 2.576843738555908 seconds\n",
      "\n"
     ]
    },
    {
     "name": "stderr",
     "output_type": "stream",
     "text": [
      "C:\\Users\\Nicho\\miniconda3\\envs\\geom2005\\lib\\site-packages\\sklearn\\base.py:450: UserWarning: X does not have valid feature names, but RandomForestClassifier was fitted with feature names\n",
      "  warnings.warn(\n"
     ]
    },
    {
     "name": "stdout",
     "output_type": "stream",
     "text": [
      "Classification finished in 3.8835315704345703 seconds\n",
      "\n"
     ]
    }
   ],
   "source": [
    "#Classify many tiles\n",
    "\n",
    "directory = \"E:\\\\Thesis\\\\SMAPTiles\\\\Version2\\\\Berms_Permafrost\"\n",
    "counter = 1\n",
    "\n",
    "\n",
    "for filename in os.listdir(directory):\n",
    "    \n",
    "    if counter == 1:\n",
    "        desc = img.descriptions\n",
    "        names = list(desc)\n",
    "\n",
    "        \n",
    "        \n",
    "    x = os.path.join(directory, filename)\n",
    "\n",
    "    # Get the tif image and convert it to a raster -  we will use the rasterio package here which requires some reshaping of the image\n",
    "    img = rasterio.open(x)\n",
    "\n",
    "    # Get the transform and crs from the image to use when exporting the image\n",
    "    transform = img.transform \n",
    "    crs = img.crs\n",
    "\n",
    "    # Read the actual image info and reshape \n",
    "    temp_info = reshape_as_image(img.read())\n",
    "\n",
    "    new_shape = (temp_info.shape[0] * temp_info.shape[1], temp_info.shape[2])\n",
    "    temp_as_array = temp_info[:, :, :].reshape(new_shape)\n",
    "\n",
    "    #Impute missing values to 9999 (It's water that will be masked, so it doesn't matter)\n",
    "    imp_mean = SimpleImputer(missing_values = np.nan, strategy ='constant', fill_value = 9999)\n",
    "    imp_mean.fit(temp_as_array)\n",
    "\n",
    "    temp_as_array = imp_mean.transform(temp_as_array)\n",
    "    temp_as_array = pd.DataFrame(temp_as_array)\n",
    "    #temp_as_array = temp_as_array.drop(columns=[4,5,6,17,20,21,22,23,24,25]) #Stage 1\n",
    "    #temp_as_array = temp_as_array.drop(columns=[17,20,21,22,23,24,25,33,34])   #Stage 2/3\n",
    "    temp_as_array.columns = names\n",
    "    #temp_as_array = temp_as_array[['SWAVE_HH', 'SWAVE_HV', 'B4', 'B5', 'B7', 'SATVI', 'MSAVI2', 'P10',\n",
    "    #       'NDVIPhase', 'NDVIAmp']]\n",
    "    temp_as_array = temp_as_array[['SWAVE_HH', 'SWAVE_HV', 'SWAVE_HVHH', 'spring_VV', 'summer_VV',\n",
    "       'fall_VV', 'B4', 'MSAVI2', 'P80', 'P90', 'NDVIPhase', 'NDVIAmp',\n",
    "       'NDVIMean']]\n",
    "    temp_as_array = temp_as_array.to_numpy()\n",
    "\n",
    "    # Use the random forest classifier to classify the image\n",
    "    # and measure the time it takes\n",
    "    startTime = time.time()\n",
    "\n",
    "    classified_image = RF.predict(temp_as_array)\n",
    "    print('Classification finished in ' + str(time.time() - startTime) + ' seconds\\n')\n",
    "\n",
    "    # Reshape the classified image back into a 2D image (with only a single band)\n",
    "    classified_image_new = classified_image.reshape(temp_info[:, :, 1].shape)\n",
    "\n",
    "    # Set the data type of the image\n",
    "    classified_image_new = classified_image_new.astype('int32')\n",
    "\n",
    "\n",
    "    #Sets up the export rules\n",
    "    exportName = \"E:\\\\Thesis\\\\SMAPTiles\\\\Version2\\\\Stage2Reducedvariables\\\\\" + 'BermsPFS3' + str(counter) + 'Tile.tif'  \n",
    "    counter += 1\n",
    "\n",
    "\n",
    "    # Export the image using rasterio\n",
    "    with rasterio.open(\n",
    "        exportName,\n",
    "          'w',\n",
    "        driver = 'GTiff',\n",
    "        height = classified_image_new.shape[0],\n",
    "        width = classified_image_new.shape[1],\n",
    "        count = 1,\n",
    "        dtype = classified_image_new.dtype,\n",
    "        crs = crs,\n",
    "        transform = transform,\n",
    "    ) as dst:\n",
    "        dst.write(classified_image_new, 1)\n",
    "        dst.close()\n",
    "\n",
    "            \n",
    "\n",
    "  #  else:\n",
    "    #   pass\n",
    "\n",
    "        \n",
    "        \n"
   ]
  },
  {
   "cell_type": "code",
   "execution_count": 50,
   "id": "79e97a74-a485-4f08-a888-c8e1931eee26",
   "metadata": {},
   "outputs": [
    {
     "name": "stderr",
     "output_type": "stream",
     "text": [
      "C:\\Users\\Nicho\\miniconda3\\envs\\geom2005\\lib\\site-packages\\sklearn\\semi_supervised\\_self_training.py:210: UserWarning: y contains no unlabeled samples\n",
      "  warnings.warn(\"y contains no unlabeled samples\", UserWarning)\n"
     ]
    },
    {
     "data": {
      "text/plain": [
       "SelfTrainingClassifier(base_estimator=RandomForestClassifier(n_estimators=1000,\n",
       "                                                             n_jobs=-1,\n",
       "                                                             random_state=157))"
      ]
     },
     "execution_count": 50,
     "metadata": {},
     "output_type": "execute_result"
    }
   ],
   "source": [
    "#Self training classifier\n",
    "\n",
    "STM = SelfTrainingClassifier(base_estimator=RF)\n",
    "STM.fit(x_train,y_train)"
   ]
  },
  {
   "cell_type": "code",
   "execution_count": 357,
   "id": "3af8ce42-2ee4-4a43-8982-b7976d3f53ab",
   "metadata": {},
   "outputs": [],
   "source": [
    "scores = cross_val_score(RF, trainingDataXD, labels, cv=5)"
   ]
  },
  {
   "cell_type": "code",
   "execution_count": 358,
   "id": "566cbefe-cf11-4100-b54f-fed513a369dc",
   "metadata": {},
   "outputs": [
    {
     "name": "stdout",
     "output_type": "stream",
     "text": [
      "0.98 accuracy with a standard deviation of 0.02\n"
     ]
    }
   ],
   "source": [
    "print(\"%0.2f accuracy with a standard deviation of %0.2f\" % (scores.mean(), scores.std()))"
   ]
  },
  {
   "cell_type": "code",
   "execution_count": 242,
   "id": "88d92d99-6cec-44ba-951a-785d03ef2c1e",
   "metadata": {},
   "outputs": [
    {
     "name": "stdout",
     "output_type": "stream",
     "text": [
      "\n",
      "---------- Self Training Model - Summary ----------\n",
      "Base Estimator:  RandomForestClassifier(n_estimators=1000, n_jobs=-1, random_state=157)\n",
      "Classes:  [1. 2. 3. 4.]\n",
      "Transduction Labels:  [ 4.  2.  3. ... -1. -1. -1.]\n",
      "Number of Iterations:  3\n",
      "Termination Condition:  no_change\n",
      "\n",
      "---------- Self Training Model - Evaluation on Test Data ----------\n"
     ]
    },
    {
     "name": "stderr",
     "output_type": "stream",
     "text": [
      "C:\\Users\\Nicho\\miniconda3\\envs\\geom2005\\lib\\site-packages\\sklearn\\base.py:443: UserWarning: X has feature names, but SelfTrainingClassifier was fitted without feature names\n",
      "  warnings.warn(\n"
     ]
    },
    {
     "name": "stdout",
     "output_type": "stream",
     "text": [
      "Accuracy Score:  0.7127937336814621\n",
      "              precision    recall  f1-score   support\n",
      "\n",
      "         1.0       0.70      0.50      0.58        66\n",
      "         2.0       0.64      0.70      0.67        82\n",
      "         3.0       0.59      0.59      0.59        91\n",
      "         4.0       0.83      0.90      0.86       144\n",
      "\n",
      "    accuracy                           0.71       383\n",
      "   macro avg       0.69      0.67      0.68       383\n",
      "weighted avg       0.71      0.71      0.71       383\n",
      "\n"
     ]
    },
    {
     "name": "stderr",
     "output_type": "stream",
     "text": [
      "C:\\Users\\Nicho\\miniconda3\\envs\\geom2005\\lib\\site-packages\\sklearn\\base.py:443: UserWarning: X has feature names, but SelfTrainingClassifier was fitted without feature names\n",
      "  warnings.warn(\n",
      "C:\\Users\\Nicho\\miniconda3\\envs\\geom2005\\lib\\site-packages\\sklearn\\base.py:443: UserWarning: X has feature names, but SelfTrainingClassifier was fitted without feature names\n",
      "  warnings.warn(\n"
     ]
    },
    {
     "name": "stdout",
     "output_type": "stream",
     "text": [
      "Predicted  1.0  2.0  3.0  4.0  All\n",
      "Actual                            \n",
      "1.0         33    3   18   12   66\n",
      "2.0          2   57   17    6   82\n",
      "3.0         12   17   54    8   91\n",
      "4.0          0   12    3  129  144\n",
      "All         47   89   92  155  383\n"
     ]
    }
   ],
   "source": [
    "print('')\n",
    "print('---------- Self Training Model - Summary ----------')\n",
    "print('Base Estimator: ', STM.base_estimator_)\n",
    "print('Classes: ', STM.classes_)\n",
    "print('Transduction Labels: ', STM.transduction_)\n",
    "#print('Iteration When Sample Was Labeled: ', clf_ST.labeled_iter_)\n",
    "print('Number of Iterations: ', STM.n_iter_)\n",
    "print('Termination Condition: ', STM.termination_condition_)\n",
    "print('')\n",
    "\n",
    "print('---------- Self Training Model - Evaluation on Test Data ----------')\n",
    "accuracy_score_ST = STM.score(x_test, y_test)\n",
    "print('Accuracy Score: ', accuracy_score_ST)\n",
    "# Look at classification report to evaluate the model\n",
    "print(classification_report(y_test, STM.predict(x_test)))\n",
    "1\n",
    "\n",
    "confusion = pd.crosstab(y_test, STM.predict(x_test), rownames=['Actual'], colnames=['Predicted'], margins=True)\n",
    "print(confusion)\n",
    "#print('Overall accuracy score:\\n{:0.2f}%\\n'.format(accuracy_score(y_test, Results) * 100))\n"
   ]
  },
  {
   "cell_type": "code",
   "execution_count": null,
   "id": "53420230-a901-4093-8bbc-4a0a60a8256b",
   "metadata": {},
   "outputs": [],
   "source": [
    "#### Simulating \"unknown peat\" points. ####"
   ]
  },
  {
   "cell_type": "code",
   "execution_count": null,
   "id": "05f5a295-06a4-427d-964e-a47ce7c70e8e",
   "metadata": {},
   "outputs": [],
   "source": [
    "#Read in training data\n",
    "trainingDataXD = pd.read_csv('TrainingDataDanDucks_26Bands.csv')\n",
    "\n",
    "#Drop Index and .GEO columns\n",
    "trainingDataXD.drop(labels='system:index', axis=1, inplace=True)\n",
    "trainingDataXD.drop(labels='.geo', axis=1, inplace=True)\n",
    "trainingDataXD = trainingDataXD.dropna()"
   ]
  },
  {
   "cell_type": "code",
   "execution_count": null,
   "id": "81b9467c-04b4-4fb5-b43d-fbd5f8235619",
   "metadata": {},
   "outputs": [],
   "source": [
    "#Create class dictionary\n",
    "Class_Dictionary = {'FB':0, 'FP':1, 'FPFC':2, 'FR':3, 'FUL':4, 'FUNK':5, 'OB':6,'OP':7, 'OPFC':8, 'OR':9, 'OUL':10, 'OUNK':11,'TB':12, 'TP':13, 'TPFC':14, 'TR':15, 'TUL':16, 'TUNK':17}\n",
    "\n",
    "#Assigning classes numerical values based on dictionary\n",
    "trainingDataXD['PeatlandTy'] = trainingDataXD['PeatlandTy'].map(Class_Dictionary)"
   ]
  },
  {
   "cell_type": "code",
   "execution_count": null,
   "id": "fd99be7d-099f-4362-8e5d-c2fe9d84890c",
   "metadata": {},
   "outputs": [],
   "source": [
    "trainingDataXD = trainingDataXD[trainingDataXD['PeatlandTy'].isin([0,12,6,3,9,15,1,7,13,2,8,14,-1])] \n",
    "trainingDataXD['PeatlandTy'] = trainingDataXD['PeatlandTy'].replace([0,12,6,3,9,15,1,7,13,2,8,14],[1,1,1,2,2,2,3,3,3,4,4,4])"
   ]
  },
  {
   "cell_type": "code",
   "execution_count": null,
   "id": "7d6a0a8b-4d60-4c19-8fd8-b372794d6112",
   "metadata": {},
   "outputs": [],
   "source": [
    "trainingDataXD = trainingDataXD.query(\"PeatlandTy != [0,-1]\")"
   ]
  },
  {
   "cell_type": "code",
   "execution_count": null,
   "id": "e5489a6f-7ce6-4946-b381-a7d53e796ae2",
   "metadata": {},
   "outputs": [],
   "source": [
    "labels = trainingDataXD['PeatlandTy']\n",
    "#labels = pd.Series(labels, name = \"Names\")\n",
    "#labels = labels.to_frame()\n",
    "\n",
    "#labels[\"id\"] = labels.groupby(['Names']).ngroup()\n",
    "#labels = labels[\"id\"]\n",
    "#labels = labels.squeeze()\n",
    "trainingDataXD = trainingDataXD.drop(columns = ['PeatlandTy'])"
   ]
  },
  {
   "cell_type": "code",
   "execution_count": null,
   "id": "5e1ae166-42dd-4537-ad77-0b8877ef19fb",
   "metadata": {},
   "outputs": [],
   "source": [
    "labels.value_counts()"
   ]
  },
  {
   "cell_type": "code",
   "execution_count": null,
   "id": "4522bc2e-6b34-4629-8b70-cbe0254c656b",
   "metadata": {},
   "outputs": [],
   "source": [
    "x_train, x_test, y_train, y_test = train_test_split(trainingDataXD, labels, test_size=0.30,random_state=6)"
   ]
  },
  {
   "cell_type": "code",
   "execution_count": null,
   "id": "8e238838-32f4-4872-933e-7159cfb43074",
   "metadata": {},
   "outputs": [],
   "source": [
    "test_labels = pd.DataFrame(y_test)"
   ]
  },
  {
   "cell_type": "code",
   "execution_count": null,
   "id": "459c0d41-9a08-4413-8c1b-e26a23ba07f4",
   "metadata": {},
   "outputs": [],
   "source": [
    "train_labels = test_labels['PeatlandTy'].replace([1,2,3,4],[-1,-1,-1,-1])"
   ]
  },
  {
   "cell_type": "code",
   "execution_count": null,
   "id": "2e4acc3b-6acd-45c3-8f79-5cf1c23ce8b9",
   "metadata": {},
   "outputs": [],
   "source": [
    "train_labels"
   ]
  },
  {
   "cell_type": "code",
   "execution_count": null,
   "id": "72b4b1c9-3232-4b7c-bda8-253c24b82d7a",
   "metadata": {},
   "outputs": [],
   "source": [
    "y_train = pd.concat([y_train, train_labels])"
   ]
  },
  {
   "cell_type": "code",
   "execution_count": null,
   "id": "5fa1289e-5b2d-49af-9d47-311ac3a89216",
   "metadata": {},
   "outputs": [],
   "source": [
    "x_train = pd.concat([x_train,x_test])"
   ]
  },
  {
   "cell_type": "code",
   "execution_count": null,
   "id": "11173bb7-8bf2-4a68-ba30-9d3ec9a21773",
   "metadata": {},
   "outputs": [],
   "source": [
    "RF = RandomForestClassifier(n_estimators = 200, random_state=157)"
   ]
  },
  {
   "cell_type": "code",
   "execution_count": null,
   "id": "2ef0e564-44d3-42e5-a2e9-8c5b4b0693ea",
   "metadata": {},
   "outputs": [],
   "source": [
    "STM = SelfTrainingClassifier(base_estimator=RF, # An estimator object implementing fit and predict_proba.\n",
    "                                             criterion='k_best', # {‘threshold’, ‘k_best’}, default=’threshold’, The selection criterion used to select which labels to add to the training set. If 'threshold', pseudo-labels with prediction probabilities above threshold are added to the dataset. If 'k_best', the k_best pseudo-labels with highest prediction probabilities are added to the dataset.\n",
    "                                             k_best=10, # default=10, The amount of samples to add in each iteration. Only used when criterion='k_best'.\n",
    "                                             max_iter=100, # default=10, Maximum number of iterations allowed. Should be greater than or equal to 0. If it is None, the classifier will continue to predict labels until no new pseudo-labels are added, or all unlabeled samples have been labeled.\n",
    "                                             verbose=True # default=False, Verbosity prints some information after each iteration\n",
    "                                            )\n",
    "STM.fit(x_train,y_train)"
   ]
  },
  {
   "cell_type": "code",
   "execution_count": null,
   "id": "5e32f367-3d29-49c2-a45e-4dc522ae88c6",
   "metadata": {},
   "outputs": [],
   "source": [
    "len(train_labels)"
   ]
  },
  {
   "cell_type": "code",
   "execution_count": null,
   "id": "797983f7-2c75-4cf9-b0b6-7c4090523614",
   "metadata": {},
   "outputs": [],
   "source": [
    "print(y_train)"
   ]
  },
  {
   "cell_type": "code",
   "execution_count": null,
   "id": "d6a4891a-bfb3-47d2-b213-7454afdcaaab",
   "metadata": {},
   "outputs": [],
   "source": [
    "from sklearn.metrics import confusion_matrix"
   ]
  },
  {
   "cell_type": "code",
   "execution_count": null,
   "id": "a5477a32-74c9-4f63-b6e3-b23f6499cbc4",
   "metadata": {},
   "outputs": [],
   "source": [
    "fig, ax = plt.subplots(figsize=(10,10))\n",
    "plt.rcParams.update({'font.size': 16})\n",
    "disp = sklearn.metrics.plot_confusion_matrix(STM, x_test, y_test,\n",
    "                             display_labels=['Bog','Rich Fen', 'Poor Fen', 'PF peat plateau'],\n",
    "                             cmap=plt.cm.Blues,\n",
    "                             ax=ax)"
   ]
  },
  {
   "cell_type": "code",
   "execution_count": null,
   "id": "fddf20fc-a396-4483-abec-bc0d72068186",
   "metadata": {},
   "outputs": [],
   "source": [
    "startTime = time.time()\n",
    "\n",
    "classified_image = STM.predict(temp_as_array)\n",
    "print('Classification finished in ' + str(time.time() - startTime) + ' seconds\\n')\n",
    "\n",
    "# Reshape the classified image back into a 2D image (with only a single band)\n",
    "classified_image_new2 = classified_image.reshape(temp_info[:, :, 1].shape)\n",
    "\n",
    "# Set the data type of the image\n",
    "classified_image_new2 = classified_image_new2.astype('int32')\n",
    "\n",
    "classified_image_new2\n"
   ]
  },
  {
   "cell_type": "code",
   "execution_count": null,
   "id": "70b0e96f-70e6-4df5-9f5c-37fc3345cfb0",
   "metadata": {},
   "outputs": [],
   "source": [
    "matplotlib.pyplot.imshow(classified_image_new2)"
   ]
  },
  {
   "cell_type": "code",
   "execution_count": null,
   "id": "f7ccbeef-9818-41f0-8d47-108029dc0aab",
   "metadata": {},
   "outputs": [],
   "source": [
    "with rasterio.open(\n",
    "            \"Alfred_Bog2020_Subclasses2.tif\",\n",
    "              'w',\n",
    "            driver = 'GTiff',\n",
    "            height = classified_image_new2.shape[0],\n",
    "            width = classified_image_new2.shape[1],\n",
    "            count = 1,\n",
    "            dtype = classified_image_new2.dtype,\n",
    "            crs = crs,\n",
    "            transform = transform,\n",
    "        ) as dst:\n",
    "            dst.write(classified_image_new2, 1) \n",
    "            dst.close()"
   ]
  }
 ],
 "metadata": {
  "kernelspec": {
   "display_name": "Python 3 (ipykernel)",
   "language": "python",
   "name": "python3"
  },
  "language_info": {
   "codemirror_mode": {
    "name": "ipython",
    "version": 3
   },
   "file_extension": ".py",
   "mimetype": "text/x-python",
   "name": "python",
   "nbconvert_exporter": "python",
   "pygments_lexer": "ipython3",
   "version": "3.8.10"
  }
 },
 "nbformat": 4,
 "nbformat_minor": 5
}
